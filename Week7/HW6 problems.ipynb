{
 "cells": [
  {
   "cell_type": "markdown",
   "metadata": {},
   "source": [
    "# HW6 Problems\n",
    "### Learning objectives\n",
    "* Practice drawing Feynman diagrams\n",
    "* Apply the Feynman Calculus to derive matrix elements\n",
    "* Gain experience with QED calculations"
   ]
  },
  {
   "cell_type": "markdown",
   "metadata": {},
   "source": [
    "## Question 1: Feynman Diagrams\n"
   ]
  },
  {
   "cell_type": "markdown",
   "metadata": {},
   "source": [
    "# 1a (2 pts) (Thomson 5.2)\n",
    "Draw the two lowest-order Feynman diagrams for the Compton scattering process $\\gamma e \\rightarrow \\gamma e$"
   ]
  },
  {
   "cell_type": "markdown",
   "metadata": {},
   "source": [
    "Write your answer here"
   ]
  },
  {
   "cell_type": "markdown",
   "metadata": {},
   "source": [
    "# 3b (3 pts) (Thomson 5.3)\n",
    "Draw the lowest-order $t$-channel and $u$-channel Feynman diagrams for $e^+e^- \\rightarrow \\gamma\\gamma$ and use the Feynman rules for QED to write down the corresponding matrix elements."
   ]
  },
  {
   "cell_type": "markdown",
   "metadata": {},
   "source": [
    "Write your answer here"
   ]
  },
  {
   "cell_type": "markdown",
   "metadata": {},
   "source": [
    "## Question 2: Rutherford Scattering\n",
    "\n",
    "The Rutherford scattering cross section can be derived very simply using\n",
    "Feynman calculus. Here are a set of rules for computing the invariant\n",
    "amplitude, taking into account the fact that photons, which carry the electromagnetic\n",
    "interactions, are vector particles. The rules for interaction of spinless charged particles with photons are as follows:\n",
    "\n",
    "* Vertex term: each vertex carries a factor\n",
    "\\begin{equation}\n",
    " V^{\\mu}(p^{\\mu}_\\mathrm{in},p^{\\mu}_\\mathrm{out}) =\n",
    " iZe(p^{\\mu}_\\mathrm{in}+p^{\\mu}_\\mathrm{out})\\ ,\n",
    "\\end{equation}\n",
    "\n",
    "where $p^{\\mu}_\\mathrm{in}$ is the 4-momentum of the particle coming\n",
    "into the vertex, $p^{\\mu}_\\mathrm{out}$ is the outgoing\n",
    "4-momentum, and $Ze$ is the charge of the particle. Notice that the\n",
    "vertex term is a 4-vector, instead of a scalar.\n",
    "\n",
    "* Photon propagator: a virtual photon carries a factor \n",
    "\\begin{equation}\n",
    "\\Pi_{\\mu\\nu}(q) = \\frac{-i g_{\\mu\\nu}}{q^2}\n",
    "\\end{equation}\n",
    "\n",
    "where $q$ is the 4-momentum of the photon, and $g_{\\mu\\nu}$ is the\n",
    "Minkowski metric tensor. Notice that the propagator\n",
    "has two Lorentz indices, since it connects two vertices which are\n",
    "represented by 4-vectors (with indices $\\mu$ and $\\nu$,\n",
    "respectively). \n",
    "\n",
    "* The rest of the rules are the same.\n",
    "\n"
   ]
  },
  {
   "cell_type": "markdown",
   "metadata": {},
   "source": [
    "### 2a. (1 pts)\n",
    "Draw the lowest-order Feynman diagram for scattering of a nucleus of charge $Z_1e$ off another nucleus of charge $Z_2e$. "
   ]
  },
  {
   "cell_type": "markdown",
   "metadata": {},
   "source": [
    "Write your answer here"
   ]
  },
  {
   "cell_type": "markdown",
   "metadata": {},
   "source": [
    "### 2b. (2 pts)\n",
    "Write down the invariant amplitude for the process."
   ]
  },
  {
   "cell_type": "markdown",
   "metadata": {},
   "source": [
    "Write your answer here"
   ]
  },
  {
   "cell_type": "markdown",
   "metadata": {},
   "source": [
    "### 2c. (4 pts)\n",
    "Compute the differential cross section for the Rutherford scattering $d\\sigma/d\\Omega$ in the laboratory frame as a function of scattering angle $\\theta$. \n",
    "\n",
    "Recall that the differential cross section is given by\n",
    "\n",
    "\\begin{equation}\n",
    "\\frac{d\\sigma}{d\\Omega} =\n",
    "\\frac{1}{64\\pi^2}\\frac{|\\mathcal{M}|^2}{E_\\mathrm{cm}^2}\\frac{p'^*}{p^*}\n",
    "\\end{equation}\n",
    "\n",
    "where $p'^*$ and $p^*$ are center-of-mass momenta of the incoming and\n",
    "outgoing particles, and $E_\\mathrm{cm}$ is the center-of-mass\n",
    "energy.\n",
    "\n",
    "Assume that nucleus $Z_2$ has a mass $M$ and is initially at rest; the nucleus $Z_1$ has a rest mass $m$ and initial kinetic energy $K$. Remember that the scattering angle is defined as the angle at which the nucleus $Z_1$ scatters relative to its initial momentum. Assume $m\\ll M$ and take a nonrelativistic limit $K\\ll m$. \n",
    "  \n",
    "Hint 1: You'll want to start by calculating the scalar product of the system in the above limit.\n",
    "\n",
    "Hint 2: The 4-momentum of the propagator should reduce to a simple expression depending on $\\theta$ and the momentum of the incoming nucleus."
   ]
  },
  {
   "cell_type": "markdown",
   "metadata": {},
   "source": [
    "Write your answer here"
   ]
  },
  {
   "cell_type": "markdown",
   "metadata": {},
   "source": [
    "## Question 3: Yukawa Potential\n",
    "\n",
    "The Yukawa interaction, proposed by Hideki Yukawa in 1930s to\n",
    "describe the nuclear force, is carried by a scalar field of mass $\\mu$\n",
    "(the pion) and is characterized by a dimensionless coupling $g$ between\n",
    "the nucleon and the pion field. Ignoring, for a moment, the spins of\n",
    "the nucleons (which in a classical non-relativistic limit do not play\n",
    "a role anyway), the vertex factor for the interaction of a nucleon of\n",
    "mass $m_N$ with a pion field of mass $\\mu$ is \n",
    "\\begin{equation}\n",
    "-ig(2m_N).\n",
    "\\end{equation}\n",
    "\n",
    "The nucleon mass is introduced here to make the coupling $g$\n",
    "dimensionless. The rest of the rules are the same as presented in\n",
    "lectures and Thomson. "
   ]
  },
  {
   "cell_type": "markdown",
   "metadata": {},
   "source": [
    "  ### 3a (2pts)\n",
    "  Draw the lowest-order diagram for the elastic\n",
    "  scattering of two nucleons ($N_1N_2\\to N_1'N_2'$) and write down the\n",
    "  lowest-order scattering amplitude $\\mathcal{M}(p_1,p_2,q)$, where\n",
    "  $p_{1,2}$ are 4-momenta of the incident nucleons, and $q=p_1'-p_1$\n",
    "  is the 4-momentum of the virtual pion."
   ]
  },
  {
   "cell_type": "markdown",
   "metadata": {},
   "source": [
    "Write your answer here"
   ]
  },
  {
   "cell_type": "markdown",
   "metadata": {},
   "source": [
    "### 3b (4 pts) \n",
    "\n",
    "The classical Yukawa potential can be read\n",
    "  off the non-relativistic limit of the Fourier transform of the\n",
    "  scattering amplitude. If you remember, in non-relativistic quantum\n",
    "  mechanics we defined the scattering amplitude as \n",
    "\\begin{equation}\n",
    "V_{fi} \\sim \\langle f | V(\\mathbf{r}) | i \\rangle = \\int d^3r\n",
    "V(\\mathbf{r}) \\exp\\left[-i(\\mathbf{p_f}-\\mathbf{p_i})\\cdot\\mathbf{r}\\right]\n",
    "\\end{equation}\n",
    "\n",
    "In other words, for initial and final states represented by plane\n",
    "waves, the scattering amplitude is proportional to the Fourier\n",
    "transform of the potential. Now, given the scattering amplitude, we\n",
    "can derive the classical form of the Yukawa potential:\n",
    "\n",
    "\\begin{equation}\n",
    "V(\\mathbf{r}) = \\int \\frac{d^3q}{(2\\pi)^3} \\exp\\left[i\\mathbf{q}\\cdot\\mathbf{r}\\right]\n",
    "\\frac{\\mathcal{M}(p_1,p_2,q)}{(2E_1)(2E_2)}\n",
    "\\end{equation}\n",
    "\n",
    "The factors $2E_i$ in the denominator are from the normalization of\n",
    "the nucleon wavefunction. Compute\n",
    "this Fourier transform in non-relativistic limit $|\\mathbf{p}_i|\\ll\n",
    "M_i$, i.e. $E_i\\approx M_i$. \n"
   ]
  },
  {
   "cell_type": "markdown",
   "metadata": {},
   "source": [
    "Write your answer here"
   ]
  },
  {
   "cell_type": "markdown",
   "metadata": {},
   "source": [
    "### 3c (1 pts)\n",
    "  Compute the typical range of the nucleon-nucleon\n",
    "  interaction (for $\\mu=m_\\pi$). Is the interaction attractive or\n",
    "  repulsive? "
   ]
  },
  {
   "cell_type": "markdown",
   "metadata": {},
   "source": [
    "Write your answer here"
   ]
  },
  {
   "cell_type": "markdown",
   "metadata": {},
   "source": [
    "### 3d (1 pts)\n",
    "  Take the limit $\\mu\\to 0$ and compare the expression\n",
    "  for $V(\\mathbf{r})$ with the Coulomb potential. What is the meaning\n",
    "  of the coupling constant $g$ and the factor $g^2/4\\pi$ in this case? "
   ]
  },
  {
   "cell_type": "markdown",
   "metadata": {},
   "source": [
    "Write your answer here"
   ]
  }
 ],
 "metadata": {
  "kernelspec": {
   "display_name": "Python 3",
   "language": "python",
   "name": "python3"
  },
  "language_info": {
   "codemirror_mode": {
    "name": "ipython",
    "version": 3
   },
   "file_extension": ".py",
   "mimetype": "text/x-python",
   "name": "python",
   "nbconvert_exporter": "python",
   "pygments_lexer": "ipython3",
   "version": "3.7.3"
  }
 },
 "nbformat": 4,
 "nbformat_minor": 4
}
