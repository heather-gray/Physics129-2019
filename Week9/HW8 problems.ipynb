{
 "cells": [
  {
   "cell_type": "markdown",
   "metadata": {},
   "source": [
    "# HW8 Problems\n",
    "### Learning objectives\n",
    "* Gain experience in using the Particle Data Group compilations of decay rates to determine relative branching fractions for different decay modes and to develop insight on decay kinematics. \n",
    "* Using the example of $D_s^{+}\\rightarrow K^+K^-\\pi^{+}$, explore how Dalitz Plots can  be  used to understand resonant structure in hadron decays."
   ]
  },
  {
   "cell_type": "markdown",
   "metadata": {},
   "source": [
    "## Question 1:\n",
    "\n",
    "B-factories are a good place to study the decays of bottom hadrons.  These $e^+e^-$ colliders typically operate at a center-of-mass energy of 10.579 GeV, the mass of the $\\Upsilon (4s)$.  This $b\\overline b $ resonance is just above the open bottom threshold and therefore decays (more than 96% of the time) to\n",
    "a $B\\overline B$ (there is not enough additional energy to produce even a single additional pion).\n",
    "\n",
    "Consider the case $\\Upsilon (4s)\\rightarrow B^0\\overline{B^0}$.  If the $\\overline{B^0}$ is fully reconstructed, then we know that all the remaining particles must come from the decay of the $B^0$ and if the $B^0$ is fully reconstructed, then we know all the remaining particles must come from the deacy of the $\\overline{B^0}$. This strategy can therefore be used to measure absolute branching fractions.\n"
   ]
  },
  {
   "cell_type": "markdown",
   "metadata": {},
   "source": [
    "### 1a (2 pts)\n",
    "\n",
    "Consider the production $e^+e^- \\rightarrow  B\\overline B$ followed by the\n",
    "decay chain for the $B^0$ and $\\overline{B^0}$.  Some fraction of the time, the $B^0$ will decay through the following decay chain:\n",
    "\\begin{eqnarray*}\n",
    "B^0 & \\rightarrow & D_s^{*+}\\pi^-\\\\\n",
    "D_s^{*+} & \\rightarrow & D_s^+ \\gamma\\\\\n",
    "D_s^{+}  & \\rightarrow & K^+K^- \\pi^+\n",
    "\\end{eqnarray*}\n",
    "\n",
    "Here the $D_s^{+}$ decay to $K^+K^-\\pi^+$ can occur through several mechanisms, including:\n",
    "\n",
    "\\begin{eqnarray*}\n",
    "D_s^{+} \\rightarrow \\phi \\pi^{+} & \\;\\;{\\rm followed\\; by} & \\; \\phi\\rightarrow K^{+} K^{-}\\\\\n",
    "D_s^{+} \\rightarrow  K^{*0} K^{+} & \\;\\;{\\rm followed\\; by} & K^{*0}\\rightarrow K^{-} \\pi^{+} {\\rm or\\ } K^{*0}\\rightarrow K^{+} \\pi^{-}\\\\ \n",
    "D_s^{+}  \\rightarrow  K^+K^- \\pi^+ & & {\\rm three-body\\; (non-resonant)}\n",
    "\\end{eqnarray*}\n",
    "\n",
    "For each of the particles listed below, use the Particle Data Group (PDG) tables to find their mass and spin. (Note, each of the particles listed above will have an anti-particle with opposite charge and the same mass and spin as the particle.  The $\\overline{B^0}$ can decay through a decay chain where all the particles above are replaced by their anti-particles). Please note that as there are two $B$-mesons in each event, you will need to consider decays of both the $B$ mesons to find all the final state particles."
   ]
  },
  {
   "cell_type": "markdown",
   "metadata": {},
   "source": [
    "| Particle | Mass | Spin |\n",
    "| --- | --- | --- |\n",
    "| $B^0$ |  | |\n",
    "| $D_s^{*+}$ |   |  |\n",
    "| $D_s^+$ | |  |\n",
    "| $\\phi$ |  |  |\n",
    "| $K^{*+}$ |  |  |\n",
    "| $K^+ $ |  |  |\n",
    "| $\\pi^+ $ |  |  |\n",
    "| $\\gamma $ |  |  |\n",
    "| $D^{*+} $ | |  |\n",
    "| $D^+ $ | | |\n",
    "| $D^0 $ | | |\n",
    "\n"
   ]
  },
  {
   "cell_type": "markdown",
   "metadata": {},
   "source": [
    "### 1b (2 pts)\n",
    "\n",
    "The $D_s^{*+}$ is composed of a charm quark and an anti-strange quark.  There is a similar state consisting of a charm quark and an anti-down quark called the $D^{*+}$.\n",
    "Use the results tabulated by the PDG to compare the branching fractions for  $D_s^{*+}\\rightarrow D_s^+ \\gamma$ and $D^{*+}\\rightarrow D^+ \\gamma$.  From the properties listed in the PDG, can you explain why are these so different?"
   ]
  },
  {
   "cell_type": "markdown",
   "metadata": {},
   "source": [
    "Your answer here."
   ]
  },
  {
   "cell_type": "markdown",
   "metadata": {},
   "source": [
    "### 1c (5 pts)\n",
    "\n",
    "As noted above,  $D_s\\rightarrow K^+K^-\\pi$ decay can occur through several possible intermediate resonance states.  In principle the decays to these should be combined by adding their decay amplitudes and then squaring the sum, since they can quantum mechanically interfere.  However, the resonant structure is still evident in the decay kinematics and it is possible to observe this resonant structure using a Dalitz plot. The file DsstarPiMC.dat contains a  simulated sample that corrresponds to the decay chain described above.\n",
    "\n",
    "Some of our events contain a decay chain starting with $B^{0} \\rightarrow  D_s^{*+}\\pi^{-}$\n",
    "where the $D_S^{*+}$ decays to a $D_s^+ \\rightarrow K^+ K^- \\pi^+$.  Other events contain a decay chain starting with $\\overline{B^0} \\rightarrow  D_s^{*-}\\pi^+$\n",
    "where the $D_S^{*-}$ decays to a $D_s^{+} \\rightarrow K^{+} K^{-} \\pi^{-}$.  In both these cases, the\n",
    "final state particles are $K^{+}K^{-}\\pi^{+}\\pi^{-}$.  By selecting the $K^{+}K^{-}\\pi^{\\pm}$ combination with\n",
    "invariant mass consistent with the $D_s^{\\pm}$,  determine for each event which $\\pi$ comes from the $D_s^\\pm$ decay.  Using the $\\pi^\\pm$ you have selected, plot the invariant mass of the $K^\\mp \\pi^\\pm$ combination in the region around the $K^{*0}$.  Do you see a peak in roughly the right place?  "
   ]
  },
  {
   "cell_type": "code",
   "execution_count": 7,
   "metadata": {
    "scrolled": true
   },
   "outputs": [
    {
     "data": {
      "text/plain": [
       "'Your code here'"
      ]
     },
     "execution_count": 7,
     "metadata": {},
     "output_type": "execute_result"
    }
   ],
   "source": [
    "import math\n",
    "import numpy as np\n",
    "import matplotlib.pyplot as plt\n",
    "\n",
    "# Parse the input file.\n",
    "file = \"DsstarPiMC.dat\"\n",
    "\n",
    "# Information needed to interpret the input file structure\n",
    "# The order of variables is explained in the metadata at the top of the file\n",
    "pMc = 0              # Magnitude of (three)-momentum of the particle in the lab frame\n",
    "massMc=1             # mass of the particle\n",
    "thetaMc=2            # polar angle of the particle\n",
    "phiMc=3              # azimuthal angle of the  particle\n",
    "idMc=4               # PDG ID of the particle (See http://www-pdg.lbl.gov/2018/reviews/rpp2018-rev-monte-carlo-numbering.pdf) \n",
    "mothMc=5             # index to the mother of the particle (the row corresponding to the mother, where\n",
    "                     # the numbering of rows for each event starts at zero\n",
    "nDauMc=6             # number of daughters the particle has\n",
    "#\n",
    "# The pdg IDs of the particles we care about\n",
    "pdgIDKplus=0 # update this value\n",
    "pdgIDKminus=0 # update this value\n",
    "pdgIDPiplus=0 # update this value\n",
    "pdgIDPiminus=0 # update this value\n",
    "DsMass = 0 # in GeV # update this value\n",
    "\n",
    "# This loop will process the file\n",
    "inEvent = False\n",
    "events = []\n",
    "for line in open(file,\"r\"):\n",
    "    line = line.strip()\n",
    "    info = line.split(\",\")    \n",
    "    if info[0] ==\"<event>\":\n",
    "        inEvent = True\n",
    "        particles = []\n",
    "    elif inEvent and (info[0] == \"</event>\"):\n",
    "        events.append(particles)\n",
    "        inEvent = False\n",
    "    elif inEvent:\n",
    "        b = [float(info[i]) for i in range(7)]\n",
    "        particles.append(b)\n",
    "numEv = len(events)\n",
    "\n",
    "# update this function\n",
    "def makeFourVector(momentum_magnitude, mass, theta, phi):\n",
    "    \"\"\"Make a four momentum vector object given the particle kinematic info\n",
    "    \n",
    "    Parameters\n",
    "    ==========\n",
    "    momentum_magnitude : float\n",
    "      magnitude of the three momentum\n",
    "      \n",
    "    mass : float\n",
    "      particle mass\n",
    "      \n",
    "    theta : float\n",
    "      polar angle of particle momentum vector\n",
    "      \n",
    "    phi : float\n",
    "      azimuthal angle of particle vector\n",
    "      \n",
    "    Returns\n",
    "    =======\n",
    "    fv : array\n",
    "      a 4-element numpy array where component 0 is the time-like component of\n",
    "      the particle's four momentum and components 1-3 are the three momentum\n",
    "    \"\"\"\n",
    "    \n",
    "    '''Your code here'''\n",
    "    return fv\n",
    "\n",
    "#update this function\n",
    "def invMsq(a):\n",
    "    \"\"\"Compute the square of the invariant mass from a four momentum vector\n",
    "    \n",
    "    Parameters\n",
    "    ==========\n",
    "    a : array\n",
    "      a four-element array representing the four momentum vector of a particle\n",
    "      \n",
    "    Returns\n",
    "    =======\n",
    "    v : float\n",
    "      the squared invariant mass of the particle \n",
    "    \"\"\"\n",
    "    \n",
    "    '''Your code here'''\n",
    "    return v\n",
    "\n",
    "# Arrays to store the invariant mass squared of 2-particle pairs\n",
    "MsqKK = np.zeros(numEv)\n",
    "MsqKpi = np.zeros(numEv)\n",
    "\n",
    "# Arrays to store the mass of 2-particle pairs\n",
    "MassKK = np.zeros(numEv)\n",
    "MassKPi = np.zeros(numEv)\n",
    "\n",
    "# Objects to store the four-momenta of the K+, K-,  pi+ and pi-\n",
    "K1=np.zeros([numEv,4])\n",
    "K2=np.zeros([numEv,4])\n",
    "Pi1=np.zeros([numEv,4])\n",
    "\n",
    "nDplus=0\n",
    "nDminus=0\n",
    "\n",
    "# This is a loop over the simulated events, each of which contains a list\n",
    "# of particles.\n",
    "for i in range(numEv):\n",
    "    '''Your code here'''\n",
    "\n",
    "# Plot the M(K pi) histogram\n",
    "'''Your code here'''"
   ]
  },
  {
   "cell_type": "markdown",
   "metadata": {},
   "source": [
    "### 1d (2 pts)\n",
    "Plot the invariant mass of the the two kaons, $K^+$ and $K^-$ system. You will want to adjust the range of the $x$ axis to focus on the region around the $\\phi$ mass.  Do you see the $\\phi$ and is its mass roughly in the right place? (You will fit for this mass later in the problem)"
   ]
  },
  {
   "cell_type": "code",
   "execution_count": 6,
   "metadata": {},
   "outputs": [
    {
     "data": {
      "text/plain": [
       "'Your code here'"
      ]
     },
     "execution_count": 6,
     "metadata": {},
     "output_type": "execute_result"
    }
   ],
   "source": [
    "'''Your code here'''"
   ]
  },
  {
   "cell_type": "markdown",
   "metadata": {},
   "source": [
    "### 1e (2 pts)\n",
    "Make the Dalitz plot for variables $m_{KK}^2$ and $m_{\\pi K}^2$ (combining the kaon and the pion of the opposite charge)."
   ]
  },
  {
   "cell_type": "code",
   "execution_count": 5,
   "metadata": {},
   "outputs": [],
   "source": [
    "# Plot the results as a scatter plot\n",
    "'''Your code here'''"
   ]
  },
  {
   "cell_type": "markdown",
   "metadata": {},
   "source": [
    "### 1f (2 pts)\n",
    "\n",
    "Explain the structure you see in the Dalitz plot you have created."
   ]
  },
  {
   "cell_type": "markdown",
   "metadata": {},
   "source": [
    "Your answer here\n"
   ]
  },
  {
   "cell_type": "markdown",
   "metadata": {},
   "source": [
    "### 1g (5 pts)\n",
    "Using these data, compute the branching fractions for decays\n",
    "\\begin{eqnarray*}\n",
    "D_s^+ &\\rightarrow &  \\phi \\pi^+\\\\\n",
    "D_s^+ & \\rightarrow &  \\overline K^{*0}  K^+\n",
    "\\end{eqnarray*}\n",
    "as well as the nonresonant\n",
    "$$                                                                                            \n",
    "D_s^+ \\rightarrow K^+ K^- \\pi^+                                                                \n",
    "$$\n",
    "and compare them to the values given in the PDG.\n",
    "\n",
    "Note: The shape of a resonance decay is a Breit-Wigner.  The non-resonant background shape is non-trivial to predict, but if you only look in the region close to the resonant mass, approximating the background using a linear function does a reasonable job. "
   ]
  },
  {
   "cell_type": "code",
   "execution_count": 4,
   "metadata": {},
   "outputs": [],
   "source": [
    "from scipy.optimize import curve_fit\n",
    "\n",
    "# We are going to fit to a relativistic Breit-Wigner for the signal and a linaer function for the background\n",
    "def fit_relBWplusBckgnd(x, N, Mass, Gamma, A, B):\n",
    "    \"\"\"Defines a relativistic Breit-Wigner function added to a linear background\n",
    "    \n",
    "    Parameters\n",
    "    ==========\n",
    "    x : float\n",
    "      input energy to the function\n",
    "      \n",
    "    N : float\n",
    "      scaling factor\n",
    "      \n",
    "    Mass : float\n",
    "      central resonance of the distribution\n",
    "      \n",
    "    Gamma : float\n",
    "      width of the resonance\n",
    "      \n",
    "    A : float\n",
    "      intercept of linear background distribution\n",
    "      \n",
    "    B : float\n",
    "      slope of linear background distribution\n",
    "      \n",
    "    Returns\n",
    "    =======\n",
    "    BW : float\n",
    "      the value of the BW+linear background function at the input energy, x\n",
    "    \"\"\"\n",
    "    '''Your code here'''\n",
    "    return A+B*x+N*k/((x**2-Mass**2)**2+(Mass*Gamma)**2)\n",
    "\n",
    "nBins=0\n",
    "\n",
    "# First fit for the K* peak\n",
    "minMass=0\n",
    "maxMass=0\n",
    "\n",
    "#Plot the data\n",
    "'''Your code here'''\n",
    "\n",
    "# Fit the data\n",
    "'''Your code here'''\n",
    "\n",
    "# Add the fit function as a curve\n",
    "'''Your code here'''\n",
    "\n",
    "# Store fitted number of K* \n",
    "numKstar = 0\n",
    "\n",
    "# Now do the same for the Phi Peak\n",
    "minMass=0\n",
    "maxMass=0\n",
    "\n",
    "#Plot the data\n",
    "'''Your code here'''\n",
    "\n",
    "# Fit the data\n",
    "'''Your code here'''\n",
    "\n",
    "# Add the fit function as a curve\n",
    "'''Your code here'''\n",
    "\n",
    "# Add the fit function as a curve\n",
    "\n",
    "# Store fitted number of Phi\n",
    "numPhi = 0\n",
    "\n",
    "# Calculate the number of non-resonant (what is left)"
   ]
  },
  {
   "cell_type": "markdown",
   "metadata": {},
   "source": [
    "Your answer here"
   ]
  },
  {
   "cell_type": "code",
   "execution_count": null,
   "metadata": {},
   "outputs": [],
   "source": []
  }
 ],
 "metadata": {
  "kernelspec": {
   "display_name": "Python 3",
   "language": "python",
   "name": "python3"
  },
  "language_info": {
   "codemirror_mode": {
    "name": "ipython",
    "version": 3
   },
   "file_extension": ".py",
   "mimetype": "text/x-python",
   "name": "python",
   "nbconvert_exporter": "python",
   "pygments_lexer": "ipython3",
   "version": "3.7.4"
  }
 },
 "nbformat": 4,
 "nbformat_minor": 4
}
