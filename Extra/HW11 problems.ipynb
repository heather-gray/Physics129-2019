{
 "cells": [
  {
   "cell_type": "markdown",
   "metadata": {},
   "source": [
    "# HW10 Problems: \n",
    "### Learning objectives\n",
    "  * Develop a deeper understanding of the Standard Model\n",
    "  * Practice calculations of matrix elements and cross-sections"
   ]
  },
  {
   "cell_type": "markdown",
   "metadata": {},
   "source": [
    "## Question 1: Massive scalar photon\n",
    "\n",
    "What if the photon, instead of being a \\textbf{massless vector} (spin 1) particle, were a \\textbf{massive scalar} (spin 0) particle? Specifically, suppose the QED vertex factor is\n",
    "\n",
    "\\begin{equation}\n",
    "    i g_e 1\n",
    "\\end{equation}\n",
    "\n",
    "(where 1 is the $4 \\times 4$ unit matrix) and the \"photon\" propagator is\n",
    "\n",
    "\\begin{equation}\n",
    " \\frac{- i}{q^2 - m_\\gamma^2}\n",
    "\\end{equation}\n",
    "There is no photon polarization vector now, and hence no factor for external photon lines. Apart from this, the Feynman rules for QED are unchanged. \n"
   ]
  },
  {
   "cell_type": "markdown",
   "metadata": {},
   "source": [
    "### 1a (1 pt)\n",
    "\n",
    "If the \"photon\" is heavy enough it can decay. Draw the Feynman diagram for the photon decay"
   ]
  },
  {
   "cell_type": "markdown",
   "metadata": {},
   "source": [
    "Your answer here"
   ]
  },
  {
   "cell_type": "markdown",
   "metadata": {},
   "source": [
    "##### 1b (5 pts)\n",
    "\n",
    "Calculate the decay rate for $\\gamma \\rightarrow e^+ + e^-$. Make sure to evaluate the decay rate in terms of the specific kinematics of the problem."
   ]
  },
  {
   "cell_type": "markdown",
   "metadata": {},
   "source": [
    "Your answer here"
   ]
  },
  {
   "cell_type": "markdown",
   "metadata": {},
   "source": [
    "### 1c (2 pts)\n",
    "\n",
    " If $m_\\gamma = 300$~MeV, find the lifetime of the \"photon\" in seconds"
   ]
  },
  {
   "cell_type": "markdown",
   "metadata": {},
   "source": [
    "Your answer here"
   ]
  },
  {
   "cell_type": "markdown",
   "metadata": {},
   "source": [
    "### 1d (1 pt)\n",
    "\n",
    "Draw the Feynman diagram for electron-muon scattering in this theory"
   ]
  },
  {
   "cell_type": "code",
   "execution_count": null,
   "metadata": {},
   "outputs": [],
   "source": [
    "Your answer here"
   ]
  },
  {
   "cell_type": "markdown",
   "metadata": {},
   "source": [
    "### 1e (5 pts)\n",
    "\n",
    "\n",
    "Find the amplitude, $\\mathcal{M}$, for electron-muon scattering. Make sure to evaluate the matrix element in terms of the specific kinematics of the problem."
   ]
  },
  {
   "cell_type": "markdown",
   "metadata": {},
   "source": [
    "Your answer here"
   ]
  },
  {
   "cell_type": "markdown",
   "metadata": {},
   "source": [
    "### 1f (6 pts)\n",
    "\n",
    "Determine the differential cross-section for electron-muon scattering in the center-of-mass frame. Assume the energy is high enough so that the electron and muon masses can be neglected: $m_e, m_\\mu \\rightarrow 0$. Express your answer in terms of the incident electron energy, $E$, and the scattering angle, $\\theta$."
   ]
  },
  {
   "cell_type": "markdown",
   "metadata": {},
   "source": [
    "Your answer here"
   ]
  },
  {
   "cell_type": "markdown",
   "metadata": {},
   "source": [
    "### 1g (3 pts)\n",
    "Calculate the total cross-section from your result in (d), assuming that the \"photon\" is extremely heavy, $m_\\gamma \\gg E$"
   ]
  },
  {
   "cell_type": "code",
   "execution_count": null,
   "metadata": {},
   "outputs": [],
   "source": [
    "Your answer here"
   ]
  },
  {
   "cell_type": "markdown",
   "metadata": {},
   "source": [
    "### 1h (6pts)\n",
    "Based on previous results, consider now the case of low-energy scattering from an extremely heavy \"muon\", $\\vec{p}_e/c \\ll m_e \\ll m_\\gamma \\ll m_\\mu$. Find the differential cross-section in the lab frame (muon at rest), assuming the muon does not recoil appreciably. Compare to the Rutherford formula and compute the total cross-section."
   ]
  },
  {
   "cell_type": "code",
   "execution_count": null,
   "metadata": {},
   "outputs": [],
   "source": [
    "Your answer here"
   ]
  }
 ],
 "metadata": {
  "kernelspec": {
   "display_name": "Python 3",
   "language": "python",
   "name": "python3"
  },
  "language_info": {
   "codemirror_mode": {
    "name": "ipython",
    "version": 3
   },
   "file_extension": ".py",
   "mimetype": "text/x-python",
   "name": "python",
   "nbconvert_exporter": "python",
   "pygments_lexer": "ipython3",
   "version": "3.7.3"
  }
 },
 "nbformat": 4,
 "nbformat_minor": 4
}
