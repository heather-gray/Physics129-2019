{
 "cells": [
  {
   "cell_type": "markdown",
   "metadata": {},
   "source": [
    "# HW7 Problems\n",
    "### Learning objectives\n",
    "* Study the angular distribution of muons produced in e+e- annihilation\n",
    "* Demonstrate using data collected by the Babar experiment that the two muons are produced back-to-back in both theta and phi\n",
    "* See hints for parity violation"
   ]
  },
  {
   "cell_type": "markdown",
   "metadata": {},
   "source": [
    "## Question 1: $e^+e^- \\rightarrow \\mu^+\\mu^-$ scattering\n"
   ]
  },
  {
   "cell_type": "markdown",
   "metadata": {},
   "source": [
    "### 1a (5 pts)\n",
    "\n",
    "Consider the process \n",
    "$$\n",
    "e^+ e^- \\rightarrow \\mu^+ \\mu^-\n",
    "$$\n",
    "In QED, this occurs through the s-channel production of a virtual photon.  If the energy is high enough so that the electron and muon masses are negligible, the matrix element squared can be written as:\n",
    "$$\n",
    "|{\\cal M}| = 2 e^4 \\left ( \\frac{t^2+u^2}{s^2} \\right )\n",
    "$$\n",
    "where $e$ is the electron charge and $s$, $t$ and $u$ are the Mandelstam variables.\n",
    "\n",
    "Find the differential cross section $d\\sigma/d\\Omega^*$ in the center-of-mass frame (where $\\Omega^*$ is $d^2/d\\cos\\theta d\\phi$ for the outgoing $\\mu^-$). Express it in terms of the fine structure constant, $\\alpha$, the Mandelstam variables, $s$, $t$, and $u$, and the angle between the incoming $e^-$ and the outgoing $\\mu^-$, $\\theta $."
   ]
  },
  {
   "cell_type": "markdown",
   "metadata": {},
   "source": [
    "Your answer here"
   ]
  },
  {
   "cell_type": "markdown",
   "metadata": {},
   "source": [
    "### 1b (2 pts)\n",
    "\n",
    "If the electron beams are unpolarised, the matrix element cannot depend on $\\phi$, since the problem is azymuthally symmetric.   Therefore $d\\sigma/d\\Omega$ depends only on $\\cos\\theta$.   Integrate your cross section above over $\\phi$ and then make a plot of the predicted angular distribution $d\\sigma /d\\cos\\theta$."
   ]
  },
  {
   "cell_type": "markdown",
   "metadata": {},
   "source": [
    "Your answer here"
   ]
  },
  {
   "cell_type": "markdown",
   "metadata": {},
   "source": [
    "### 1c (3 pts)\n",
    "\n",
    "Now integrate over $\\cos\\theta$  to find the total cross section as function of  𝑠  in units of nb"
   ]
  },
  {
   "cell_type": "markdown",
   "metadata": {},
   "source": [
    "Your answer here\n"
   ]
  },
  {
   "cell_type": "markdown",
   "metadata": {},
   "source": [
    "### 1d (7 pts)\n",
    "\n",
    "The file mumu.dat contains data corresponding to an integrated luminosity of 74.674 pb$^{−1}$  collected by the BaBar experiment at the SLAC B-factory. The file contains events from the process  𝑒+𝑒−→𝜇+𝜇−(𝛾) (where ( 𝛾 ) means that the event selection may allow a low-energy photon). The photon emission can be treated as a small radiative correction, which does not modify the gross properties of the  𝑒+𝑒−→𝜇+𝜇−  process. The data were collected at a center-of-mass energy of 10.539 GeV. Note, that this is below the BB̄ production threshold.\n",
    "\n",
    "The following code reads this data file and puts the data into a form that can be easily used in python:"
   ]
  },
  {
   "cell_type": "code",
   "execution_count": 8,
   "metadata": {},
   "outputs": [],
   "source": [
    "import math\n",
    "import numpy as np\n",
    "import matplotlib.pyplot as plt\n",
    "from scipy.optimize import curve_fit\n",
    "\n",
    "# Parse the input file.\n",
    "file = \"mumu.dat\"\n",
    "\n",
    "# The order of variables is explained in the metadata at the top of the file\n",
    "#\n",
    "#  isBCMuMu -- a boolean bit which provides a tighter (but cleaner) selection of di-muons.  You should require this bit to be 1\n",
    "#  p1Mag -- Magnitude of the momentum of the highest-momentum track (in GeV)\n",
    "#  p1CosTheta -- Cosine of the polar angle of the highest-momentum track  \n",
    "#  p1Phi -- Azimuthal angle of the highest-momentum track\n",
    "#  p1EmcCandEnergy -- Electromagnetic Calorimeter energy associated with the highest-momentum track. For muons, this is expected to be non-zero, but small (<1 GeV)\n",
    "#  p2Mag -- Magnitude of the momentum of the second highest-momentum track (in GeV)\n",
    "#  p2CosTheta -- Cosine of the polar angle of the second highest-momentum track\n",
    "#  p2Phi -- Azimuthal angle of the second highest-momentum track\n",
    "#  p2EmcCandEnergy -- Electromagnetic Calorimeter energy associated with the second highest-momentum track. For muons, this is expected to be non-zero, but small (<1 GeV)\n",
    "#\n",
    "inMeta = False\n",
    "isBCMuMu = []\n",
    "p1Mag = []\n",
    "p1CosTheta = []\n",
    "p1Phi = []\n",
    "p1EmcCandEnergy = []\n",
    "p2Mag = []\n",
    "p2CosTheta = []\n",
    "p2Phi = []\n",
    "p2EmcCandEnergy = []\n",
    "\n",
    "inMeta = True\n",
    "for line in open(file,\"r\"):\n",
    "    line = line.strip()\n",
    "    info = line.split(\",\")    \n",
    "    if inMeta and (\"<metadata>\" in info[0]):\n",
    "        inMeta = True\n",
    "    elif inMeta and (\"</metadata>\" in info[0]):\n",
    "        inMeta = False\n",
    "    elif not inMeta:\n",
    "        isBCMuMu.append(int(info[0]))\n",
    "        p1Mag.append(float(info[1]))\n",
    "        p1CosTheta.append(float(info[2]))\n",
    "        p1Phi.append(float(info[3]))\n",
    "        p1EmcCandEnergy.append(float(info[4]))\n",
    "        p2Mag.append(float(info[5]))\n",
    "        p2CosTheta.append(float(info[6]))\n",
    "        p2Phi.append(float(info[7]))\n",
    "        p2EmcCandEnergy.append(float(info[8]))\n"
   ]
  },
  {
   "cell_type": "markdown",
   "metadata": {},
   "source": [
    "First, let's verify our statement that presence of the photon does not grossly effect the kinematics of these events.  Make a scatter plot comparing the values of $\\cos \\theta$ for the two muon candidates in each event.  Make a second scatter plot comparing the values of $\\phi$.  Explain in words what these plots tell you.  Make sure you require that the isBCMuMu bit is set to 1.  In addition, to ensure that both muons are in a part of the detector where they are well-measured, require $|\\cos\\theta|< 0.7485$ for each muon."
   ]
  },
  {
   "cell_type": "code",
   "execution_count": 5,
   "metadata": {},
   "outputs": [],
   "source": [
    "# your answer here"
   ]
  },
  {
   "cell_type": "markdown",
   "metadata": {},
   "source": [
    "### 1e (3 pts)\n",
    "\n",
    "Because the electromagnetic interaction conserves parity, the angular distribution cannot contain any terms that are odd under parity inversion, i.e. parity must be conserved.  However, as we'll learn later in the course, weak interactions do not conserve parity.  In this case, since the $Z$ boson has the same quantum numbers as the photon, diagrams involving the $Z$ and the photon both contribute to the $e^+e^-\\rightarrow \\mu^+\\mu^-$ cross section.  And because there are the same initial and final states, the interference between these two diagrams introduces a term that violates parity.  Plot the angular distribution (i.e. $\\cos{\\theta}$) for the $\\mu^+$ and for the $\\mu^-$.  Is there evidence of parity violation in these plots?"
   ]
  },
  {
   "cell_type": "code",
   "execution_count": 7,
   "metadata": {},
   "outputs": [],
   "source": [
    "# your answer here"
   ]
  }
 ],
 "metadata": {
  "kernelspec": {
   "display_name": "Python 3",
   "language": "python",
   "name": "python3"
  },
  "language_info": {
   "codemirror_mode": {
    "name": "ipython",
    "version": 3
   },
   "file_extension": ".py",
   "mimetype": "text/x-python",
   "name": "python",
   "nbconvert_exporter": "python",
   "pygments_lexer": "ipython3",
   "version": "3.7.4"
  }
 },
 "nbformat": 4,
 "nbformat_minor": 4
}
