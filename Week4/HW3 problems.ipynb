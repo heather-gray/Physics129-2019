{
 "cells": [
  {
   "cell_type": "markdown",
   "metadata": {},
   "source": [
    "# HW3 problems"
   ]
  },
  {
   "cell_type": "markdown",
   "metadata": {},
   "source": [
    "### Learning objectives\n",
    "In this homework you will:\n",
    "\n",
    "- See that you can use $\\sigma$ as a measure of resolution even for distributions that are not Gaussian\n",
    "- Learn how to write a simple Monte Carlo and use it to reproduce an analytical result\n",
    "- Understand what position resolution means using a silicon strip detector as an example\n",
    "- Demonstrate that you can use simulation to solve problems that are more complicated than what can be done analytically\n",
    "- Learn how noise affects measurements\n"
   ]
  },
  {
   "cell_type": "markdown",
   "metadata": {
    "flags": [
     "problems",
     "solutions"
    ]
   },
   "source": [
    "## Problem 1: Measurement Uncertainties (8 pts)"
   ]
  },
  {
   "cell_type": "markdown",
   "metadata": {
    "flags": [
     "problems",
     "solutions"
    ]
   },
   "source": [
    "The [*Central Limit Theorem*](https://en.wikipedia.org/wiki/Central_limit_theorem) tells us  that \n",
    "the distribution of the sum (or average) of a large number of independent, identically \n",
    "distributed measurements will be approximately normal, regardless of the underlying distribution\n",
    "(subject to the condition that mean and variance of the underlying distribution are not infinite).\n",
    "We'll see how this works for the simplest pdf ([probability density function](https://www.khanacademy.org/math/statistics-probability/random-variables-stats-library/random-variables-continuous/v/probability-density-functions)), a random variable $x$ uniformly distributed:"
   ]
  },
  {
   "cell_type": "markdown",
   "metadata": {
    "flags": [
     "problems",
     "solutions"
    ]
   },
   "source": [
    "$$f(x) = \\begin{cases} \\frac{1}{b-a} &\\mbox{if } a \\leq x \\leq b \\\\ \n",
    "0 & \\mbox{otherwise} \\end{cases} $$"
   ]
  },
  {
   "cell_type": "markdown",
   "metadata": {},
   "source": [
    "### 1a. (2 pts)"
   ]
  },
  {
   "cell_type": "markdown",
   "metadata": {
    "flags": [
     "problems",
     "solutions"
    ]
   },
   "source": [
    "Show that the mean ($\\mu$) is $\\frac{b+a}{2}$ and the variance ($\\sigma^2$) is $\\frac{(b-a)^2}{12}$ for the above distribution."
   ]
  },
  {
   "cell_type": "markdown",
   "metadata": {},
   "source": [
    "Write your answer here"
   ]
  },
  {
   "cell_type": "markdown",
   "metadata": {},
   "source": [
    "### 1b. (2 pts)"
   ]
  },
  {
   "cell_type": "markdown",
   "metadata": {
    "flags": [
     "problems",
     "solutions"
    ]
   },
   "source": [
    "Let $a=0$ and $b=1$. Using your favorite random number generator, generate 1000 random numbers from the uniform distribution, $f(x)$.  Calculate the mean and variance of the numbers you generate.  \n",
    "\n",
    "Hint: You can use the NumPy (Numerical Python) library to generate random numbers from the (0,1) uniform distribution:"
   ]
  },
  {
   "cell_type": "code",
   "execution_count": null,
   "metadata": {
    "flags": [
     "problems",
     "solutions"
    ]
   },
   "outputs": [],
   "source": [
    "#Import the NumPy library as \"np\"\n",
    "import numpy as np\n",
    "\n",
    "#Use NumPy to generate a list (it's actually a numpy.ndarray) of 1000 random numbers\n",
    "samples = np.random.rand(1000)\n",
    "\n",
    "#Print the first 10 random numbers\n",
    "print(samples[0:10])"
   ]
  },
  {
   "cell_type": "markdown",
   "metadata": {
    "flags": [
     "problems",
     "solutions"
    ]
   },
   "source": [
    "Write your own functions to find the mean and variance of a list of numbers:"
   ]
  },
  {
   "cell_type": "code",
   "execution_count": null,
   "metadata": {
    "flags": [
     "problems",
     "solutions"
    ]
   },
   "outputs": [],
   "source": [
    "def find_mean(num_list):\n",
    "    \"\"\"Compute mean of an input list of numbers\n",
    "    \n",
    "    Parameters\n",
    "    ==========\n",
    "    num_list : list of floats\n",
    "      given as a NumPy array of numbers\n",
    "      \n",
    "    Returns\n",
    "    =======\n",
    "    mean : float\n",
    "      the mean of num_list\n",
    "    \"\"\"\n",
    "    \n",
    "    # Your code to calculate mean here\n",
    "    \n",
    "    return mean\n",
    "\n",
    "def find_variance(num_list):\n",
    "    \"\"\"Compute variance of an input list of numbers\n",
    "    \n",
    "    Parameters\n",
    "    ==========\n",
    "    num_list : list of floats\n",
    "      given as a NumPy array of numbers\n",
    "      \n",
    "    Returns\n",
    "    =======\n",
    "    variance : float\n",
    "      the variance of num_list\n",
    "    \"\"\"    \n",
    "    \n",
    "    # Your code to calculate mean here\n",
    "    \n",
    "    return variance"
   ]
  },
  {
   "cell_type": "markdown",
   "metadata": {},
   "source": [
    "### 1c. (1 pt)"
   ]
  },
  {
   "cell_type": "markdown",
   "metadata": {
    "flags": [
     "problems",
     "solutions"
    ]
   },
   "source": [
    "Do these numerical results agree with the analytical results you found above?"
   ]
  },
  {
   "cell_type": "markdown",
   "metadata": {},
   "source": [
    "Write your answer here"
   ]
  },
  {
   "cell_type": "markdown",
   "metadata": {},
   "source": [
    "### 1d. (1 pt)"
   ]
  },
  {
   "cell_type": "markdown",
   "metadata": {
    "flags": [
     "problems",
     "solutions"
    ]
   },
   "source": [
    "Make a histogram  with 100 bins where the lower edge of the first bin is at $x=0$ and the upper\n",
    "edge of the last is at $x=1$.  Fill your histogram with the random numbers you generated above."
   ]
  },
  {
   "cell_type": "markdown",
   "metadata": {
    "flags": [
     "problems",
     "solutions"
    ]
   },
   "source": [
    "We'll use the **matplotlib.pyplot** module to make several histograms throughout the assignment, so we should go ahead and import it now.  Making a histogram from a list of numbers is as simple as calling [plt.hist()](https://matplotlib.org/api/_as_gen/matplotlib.pyplot.hist.html), with the list as the input parameter.  There are many optional parameters, like the number of bins and the color of the bars.\n",
    "\n",
    "Since our histograms will share similar formatting, it's also useful to define a function rather than typing the same thing over and over.  For this homework, we'll supply the histogramming routine.  In the future, you will write this code yourself.\n",
    "\n",
    "Take some time to play with the plot formatting and choose a [color](https://matplotlib.org/2.0.2/api/colors_api.html) you like for the bars.  Then call the function with your random samples."
   ]
  },
  {
   "cell_type": "code",
   "execution_count": null,
   "metadata": {
    "flags": [
     "problems",
     "solutions"
    ]
   },
   "outputs": [],
   "source": [
    "#Import the pyplot module of matplotlib as \"plt\"\n",
    "import matplotlib.pyplot as plt\n",
    "\n",
    "\n",
    "#Makes a histogram filled with the random numbers we generate\n",
    "def plot_histogram(samples,xtitle,ytitle, title, limits):\n",
    "    \"\"\"Create and plot a histogram of an array of numbers\n",
    "    \n",
    "    Parameters\n",
    "    ==========\n",
    "    samples : 1D numpy array\n",
    "      the numbers to histogram\n",
    "      \n",
    "    xtitle : string\n",
    "      the label of the x-axis of the histogram\n",
    "      \n",
    "    ytitle : string\n",
    "      the label of the y-axis of the histogram\n",
    "      \n",
    "    title : string\n",
    "      the title added to the histogram\n",
    "      \n",
    "    limits : tuple of floats\n",
    "      the x-axis lower and upper limit\n",
    "      \n",
    "    Returns\n",
    "    =======\n",
    "    Nothing!\n",
    "    \"\"\"\n",
    "    #It would be nice to have the mean and standard deviation in the title, so let's get these\n",
    "    mean, sigma = np.mean(samples),  p.sqrt(np.var(samples))\n",
    "    #Plot the histogram of the sampled data with 100 bins and a nice color\n",
    "    plt.hist(samples, bins=100, range=limits, color=(0,0.7,0.9))  #Set the color using (r,g,b) values or\n",
    "                                                                  #  use a built-in matplotlib color\"\"\" \n",
    "\n",
    "    #Add some axis labels and a descriptive title\n",
    "    plt.xlabel(xtitle)\n",
    "    plt.ylabel(ytitle)\n",
    "    plt.title(title+'\\n $\\mu={0:.3f},\\ \\sigma={1:.3f}$'.format(mean,sigma) )\n",
    "\n",
    "    #Get rid of the extra white space on the left/right edges (you can delete these two lines without a problem)\n",
    "    xmin, xmax, ymin, ymax = plt.axis()\n",
    "    plt.axis([limits[0],limits[1],ymin,ymax])\n",
    "\n",
    "    #Not necessarily needed in a Jupyter notebook, but it doesn't hurt\n",
    "    plt.show()"
   ]
  },
  {
   "cell_type": "code",
   "execution_count": null,
   "metadata": {},
   "outputs": [],
   "source": [
    "#Write your answer here"
   ]
  },
  {
   "cell_type": "markdown",
   "metadata": {},
   "source": [
    "### 1f. (1 pt)"
   ]
  },
  {
   "cell_type": "markdown",
   "metadata": {},
   "source": [
    "Now suppose you make an ensemble of 1000 pseudoexperiments where each pseduoexperiment consists of $N$ uniformly distributed random numbers.  For each pseudoexperiment, define the measurement $S$ to be\n",
    "\n",
    "$$\n",
    "S \\equiv \\frac{1}{N} \\sum_1^N x_i\n",
    "$$\n",
    "\n",
    "Make histograms of $S$ with the same $x-$axis as above for the cases $N=2$, $N=5$\n",
    "and $N=10$.  Determine the mean and the $\\sigma$ of the distributions displayed in\n",
    "these histograms.  "
   ]
  },
  {
   "cell_type": "code",
   "execution_count": null,
   "metadata": {},
   "outputs": [],
   "source": [
    "#Calculates and returns S as defined above\n",
    "def pseudoexperiment(N):\n",
    "    \"\"\"Run a single pseudoexperiment consisting of N measurements\n",
    "    \n",
    "    Parameters\n",
    "    ==========\n",
    "    N : int\n",
    "      number of uniformly sampled random numbers per pseudoexperiment\n",
    "      \n",
    "    Returns\n",
    "    =======\n",
    "    s : float\n",
    "      the measurement result as defined in the text above\n",
    "    \"\"\"\n",
    "    samples = np.random.rand(N)  #samples = [x_1, x_2, ... x_N]\n",
    "    s = 0  #replace this with your calculation of s\n",
    "    \n",
    "    \"\"\"Your code here\"\"\"\n",
    "    \n",
    "    return s\n",
    "\n",
    "#Performs each pseudoexperiment 1000 times and plot a histogram of the results\n",
    "def run_pseudoexperiments(N):\n",
    "    \"\"\"Run a set of pseudoexperiments each with N random numbers\n",
    "    \n",
    "    Parameters\n",
    "    ==========\n",
    "    N : int\n",
    "      number of random numbers in each pseudoexperiment\n",
    "      \n",
    "    Returns\n",
    "    =======\n",
    "    Nothing!\n",
    "    \"\"\"\n",
    "    s_list = []\n",
    "    #run the ensemble of 1000 pseudoexperiments and store measurements\n",
    "    for i in range(1000):\n",
    "        s_list.append(pseudoexperiment(N))\n",
    "    #plot a histogram of these 1000 mesa\n",
    "    plot_histogram(s_list,\"Mean Value of x\",\"Number of Entries\",\"1000 PseudoExperiments, each with \"+str(N)+\" Randomly Distributed x values\",[0.0,1.0])"
   ]
  },
  {
   "cell_type": "code",
   "execution_count": null,
   "metadata": {},
   "outputs": [],
   "source": [
    "# Run this cell after you have completed the code above\n",
    "for N in [2,5,10]:\n",
    "    run_pseudoexperiments(N)"
   ]
  },
  {
   "cell_type": "markdown",
   "metadata": {},
   "source": [
    "### 1g. (1 pt)"
   ]
  },
  {
   "cell_type": "markdown",
   "metadata": {},
   "source": [
    "Compare the values of $\\sigma$ you obtain to what you would predict if you assumed the experiments followed a uniform distribution."
   ]
  },
  {
   "cell_type": "markdown",
   "metadata": {},
   "source": [
    "Write your answer here"
   ]
  },
  {
   "cell_type": "markdown",
   "metadata": {},
   "source": [
    "## Problem 2: Silicon Detector Position Resolution – Analytic Calculation (6 pts)"
   ]
  },
  {
   "cell_type": "markdown",
   "metadata": {},
   "source": [
    "In this problem and the next we will study how the position resolution of a detector depends upon the properties of that detector. For our example, we will consider a silicon micro-strip detector. We will describe our detector as a plane segmented into strips, each of width $\\ell$. When a track passes through the plane, it deposits energy in the detector and that energy is collected using charge sensitive ampliﬁers (one per strip). You many assume that the incident track is normal to the silicon plane. Looking down on the strip detector (so that the incident tracks are traveling into the page), the detector looks like this:"
   ]
  },
  {
   "cell_type": "markdown",
   "metadata": {},
   "source": [
    "<img src=\"strips.png\" alt=\"Drawing\" style=\"width: 600px;\"/>"
   ]
  },
  {
   "cell_type": "markdown",
   "metadata": {},
   "source": [
    "The position $x=0$, $y=0$ is taken to be the center of the middle strip."
   ]
  },
  {
   "cell_type": "markdown",
   "metadata": {},
   "source": [
    "### 2a. (3 pts)"
   ]
  },
  {
   "cell_type": "markdown",
   "metadata": {
    "flags": [
     "problems",
     "solutions"
    ]
   },
   "source": [
    "Suppose all the energy is deposited in a single strip (the strip the\n",
    "track passes through).  Find an expression for the position resolution\n",
    "of the detector as a function of $\\ell$. The position resolution is defined\n",
    "to be $\\sigma_x = \\sqrt{var[(x_{meas}-x_{true})]}$ where $x_{true}$ is the \n",
    "position where the track actually hit the detector.  Because we only\n",
    "know which strip is hit, in this example \n",
    "$x_{meas}$ is the center of the strip that is hit."
   ]
  },
  {
   "cell_type": "markdown",
   "metadata": {},
   "source": [
    "Write your answer here"
   ]
  },
  {
   "cell_type": "markdown",
   "metadata": {},
   "source": [
    "### 2b. (3 pts)"
   ]
  },
  {
   "cell_type": "markdown",
   "metadata": {
    "flags": [
     "problems",
     "solutions"
    ]
   },
   "source": [
    "Suppose that \n",
    "the charge deposited in our detector spreads out due\n",
    "to physical effects such as diffusion. It is possible for more than\n",
    "one strip to register a signal.  Assume in this part that our electronics\n",
    "is binary (i.e. registers a 1 if the deposited energy on the\n",
    "strip is above a specified threshold\n",
    "and 0 otherwise). Assume the threshold on the electronics is\n",
    "such that particles hitting within\n",
    "a  distance of $\\pm \\ell/3 $ of the center of the strip only register on\n",
    "a single strip while all particles hitting further from the strip\n",
    "center register on two strips.\n",
    "\n",
    "What is the position resolution now? (Here, if\n",
    "only one strip is hit, $x_{meas}$ is the center of the strip.  If\n",
    "two strips are hit, then $x_{meas}$ is the common edge of the two\n",
    "hit strips).  **Note:** this is *not* an unrealistic example.  The ATLAS silicon\n",
    "strip detector has such binary readout."
   ]
  },
  {
   "cell_type": "markdown",
   "metadata": {},
   "source": [
    "Write your answer here"
   ]
  },
  {
   "cell_type": "markdown",
   "metadata": {},
   "source": [
    "## Problem 3: Silicon Detector Position Resolution – Monte Carlo Calculation (6 pts)"
   ]
  },
  {
   "cell_type": "markdown",
   "metadata": {},
   "source": [
    "In problem 2, it was possible to calculate the position resolution analytically. In cases where the detector response is more complicated, this may not be the case. Typically, physicists model detector performance using Monte Carlo simulations. In this problem, you will write a simple simulation to determine the position resolution of a silicon detector.\n"
   ]
  },
  {
   "cell_type": "markdown",
   "metadata": {},
   "source": [
    "### 3a. (1 pt)"
   ]
  },
  {
   "cell_type": "markdown",
   "metadata": {
    "flags": [
     "problems",
     "solutions"
    ]
   },
   "source": [
    "Let's begin by reproducing the analytic results obtained in problem **2**.\n",
    "Consider a silicon strip detector that consisting of several strips of width $\\ell$.  \n",
    "Assume that the incident particles have a uniform distribution\n",
    "in $x$ with $-\\ell/2 < x < \\ell/2$ and all have $y=0$. (We'll just focus on this \"center strip\", so $x_{meas}$ can either be $-\\ell/2$, $0$, or $\\ell/2$ depending on where the particle hits.)\n",
    "Generate 10,000 such particles for\n",
    "the case described in part **2(a)** and for the case described\n",
    "in part **2(b)**.\n",
    "For each case, make a histogram of ($x_{meas}-x_{true}$) and \n",
    "verify that\n",
    "the resolution \n",
    "is consistent with that  obtained in problem **2**. \n",
    "\n",
    "You can use np.random.uniform() to sample from a uniform distribution with arbitrary bounds. We'd like 10,000 samples for this problem, so we set size = 10000. Note that we take $\\ell = 1$ for simplicity.\n"
   ]
  },
  {
   "cell_type": "code",
   "execution_count": null,
   "metadata": {
    "flags": [
     "problems",
     "solutions"
    ]
   },
   "outputs": [],
   "source": [
    "samples = np.random.uniform(-0.5, 0.5, size=10000)"
   ]
  },
  {
   "cell_type": "markdown",
   "metadata": {
    "flags": [
     "problems",
     "solutions"
    ]
   },
   "source": [
    "For the case of **2(a)**, $x_{meas}=0$ (the center of the strip), so we can simply find the variance of these samples and take the square root to find the position resolution.  Note that this is really just a repetition of the first problem, but with our bounds shifted from (0,1) to (-0.5,0.5)."
   ]
  },
  {
   "cell_type": "code",
   "execution_count": null,
   "metadata": {},
   "outputs": [],
   "source": [
    "#Write your answer here"
   ]
  },
  {
   "cell_type": "markdown",
   "metadata": {},
   "source": [
    "### 3b. (2 pts)"
   ]
  },
  {
   "cell_type": "markdown",
   "metadata": {
    "flags": [
     "problems",
     "solutions"
    ]
   },
   "source": [
    "For the case of **2(b)**, we need to consider the three different cases for $x_{meas}$. Comment on how the resolution compares."
   ]
  },
  {
   "cell_type": "code",
   "execution_count": null,
   "metadata": {
    "flags": [
     "problems",
     "solutions"
    ],
    "jupyter": {
     "outputs_hidden": true
    }
   },
   "outputs": [],
   "source": [
    "#We'll call the quantity (x_meas - x_true) the \"error\" of the measurement\n",
    "errors = []\n",
    "\n",
    "#Go through each of our random samples and append (x_meas - x_true) to the error list\n",
    "for x_true in samples:\n",
    "    #particle hits the left third of strip\n",
    "    if x_true < -1/3:\n",
    "        x_meas = \"\"\"Your code here\"\"\"\n",
    "    #particle hits the right third of strip\n",
    "    elif x_true > 1/3:\n",
    "        x_meas = \"\"\"Your code here\"\"\"\n",
    "    else:\n",
    "        x_meas = \"\"\"Your code here\"\"\"\n",
    "        \n",
    "    errors.append(x_meas - x_true)\n",
    "\n",
    "plot_histogram(errors,\"x value\",\"Number of Entries\",\"Measured-True Position\",[-0.5,0.5])"
   ]
  },
  {
   "cell_type": "code",
   "execution_count": null,
   "metadata": {},
   "outputs": [],
   "source": [
    "#Write your answer here"
   ]
  },
  {
   "cell_type": "markdown",
   "metadata": {},
   "source": [
    "### 3c.  (3 pts)"
   ]
  },
  {
   "cell_type": "markdown",
   "metadata": {
    "flags": [
     "problems",
     "solutions"
    ]
   },
   "source": [
    "Now, let us replace our binary electronics from part 2(b) with analog electronics (so that the magnitude of the charge deposited on the strip is recorded).  We will model the transverse spreading of the charge from our incident\n",
    "track using a Gaussian distribution with width $\\sigma_M$: \n",
    "\n",
    "$$ f(x)\\ dx = \\frac{1}{\\sigma_M\\sqrt{2\\pi}} \\exp(-(x-x_0)^2/2\\sigma_M^2)\\ dx$$\n",
    "\n",
    "where $f(x)$ is the charge deposited between position $x$ and $x+dx$ and $x_0$ is the point where the track hits the detector.\n",
    "Assume that the total energy deposited by each track is 1 MIP (a MIP is the energy deposited by a single minimum ionizing particle), that our analog electronics has a threshold of 0.2 MIP and that $\\sigma_M=\\ell$.  Also assume that the electronics has an intrinsic noise contribution $\\sigma_N=0.1$ MIP. (This means that the measurement of the charge on each strip is modified by adding a noise contribution that is distributed according\n",
    "to a Gaussian with mean 0 and variance $\\sigma_N^2$.  Assume that the\n",
    "noise on neighboring strips is uncorrelated.)\n",
    "\n",
    "Generate 10,000 particles and simulate the response of this\n",
    "silcon strip detector (**using 7 strips now**) to these particles.  From this simulation\n",
    "determine the position resolution of the silicon detector.\n",
    "Assume that in the analysis of these data the measured position of the particle is:\n",
    "$$\n",
    "x_{meas} = \\sum_{i=strips} q_i x_i\n",
    "$$\n",
    "where the index $i$ is the strip number, $q_i$ is the measured\n",
    "charge on the strip (set to zero for strips with charge below\n",
    "threshold) and $x_i$ is the position of the center of strip $i$.\n",
    "\n",
    "Once again, assume that the incident particles have a uniform distribution\n",
    "in $x$ with $-\\ell/2 < x < \\ell/2$."
   ]
  },
  {
   "cell_type": "markdown",
   "metadata": {
    "flags": [
     "problems",
     "solutions"
    ]
   },
   "source": [
    "We'll take $\\sigma_M = \\ell = 1$ for simplicity.  To keep track of our detector geometry, we'll first create a list of each strip's centers along with a list of its left/right bounds.  "
   ]
  },
  {
   "cell_type": "code",
   "execution_count": null,
   "metadata": {
    "flags": [
     "problems",
     "solutions"
    ]
   },
   "outputs": [],
   "source": [
    "num_strips = 7  #Keep this odd so the problem is symmetric\n",
    "centers = []\n",
    "bounds = []\n",
    "\n",
    "for i in range(-int(num_strips/2),int(num_strips/2)+1):\n",
    "    centers.append(i)\n",
    "    bounds.append([i-0.5, i+0.5])\n",
    "    \n",
    "print(centers, bounds)"
   ]
  },
  {
   "cell_type": "markdown",
   "metadata": {
    "flags": [
     "problems",
     "solutions"
    ]
   },
   "source": [
    "Next, we'll use the error function to integrate over the Gaussian distribution while finding the charge deposited on each strip.  We'll also implement the weighted sum in finding the measured position."
   ]
  },
  {
   "cell_type": "code",
   "execution_count": null,
   "metadata": {
    "flags": [
     "problems",
     "solutions"
    ],
    "jupyter": {
     "outputs_hidden": true
    }
   },
   "outputs": [],
   "source": [
    "#Import the error function to help integrate the gaussian distribution\n",
    "from math import erf\n",
    "\n",
    "def get_charge(i,x):\n",
    "    \"\"\"Finds the charge deposited on strip i with a hit at location x\n",
    "    \n",
    "    Parameters\n",
    "    ==========\n",
    "    i : int\n",
    "      index of the strip in the centers and bounds lists\n",
    "      \n",
    "    x : float\n",
    "      the true x-coordinate of the hit\n",
    "      \n",
    "    Returns\n",
    "    =======\n",
    "    charge : float\n",
    "      the charge measured by the strip indexed by i given a hit coordinate x\n",
    "    \"\"\"\n",
    "    charge=0 # replace this with your code below\n",
    "    \n",
    "    \"\"\"Your code here.  Using the error function erf() is convenient/fast, but\n",
    "       feel free to use an integration package like scipy.integrate or write your\n",
    "       own numerical integration function.  The left and right bound of each strip\n",
    "       is contained in bounds[i][0] and bounds[i][1], respectively. \"\"\"\n",
    "    \n",
    "    return charge\n",
    "                         \n",
    "def find_x_meas(charges, cutoff):\n",
    "    \"\"\"Finds the measured particle position as given by the expression in the\n",
    "    text above\n",
    "    \n",
    "    Parameters\n",
    "    ==========\n",
    "    charges : list of floats\n",
    "      a list representing the charge measured at each silicon strip\n",
    "      \n",
    "    cutoff : float\n",
    "      the value below which a measured charge is registered as a zero\n",
    "      \n",
    "    Returns\n",
    "    =======\n",
    "    xmeas : float\n",
    "      the measured x-coordinate based on the charges seen in each strip\n",
    "    \"\"\"\n",
    "    xmeas = 0 # replace this with your code below\n",
    "    \n",
    "    \"\"\"Your code here.  Use the weighted sum definition given in the problem statement.\n",
    "       Note that x_i = centers[i].\"\"\"\n",
    "    \n",
    "    return xmeas"
   ]
  },
  {
   "cell_type": "markdown",
   "metadata": {
    "flags": [
     "problems",
     "solutions"
    ]
   },
   "source": [
    "Finally, we'll write a function that finds the position resolution for any intrinsic noise and charge threshold."
   ]
  },
  {
   "cell_type": "code",
   "execution_count": null,
   "metadata": {
    "flags": [
     "problems",
     "solutions"
    ]
   },
   "outputs": [],
   "source": [
    "#Noise, cutoff corresponds to sigma_N, threshold described in the problem statement\n",
    "def test_analog_electronics(noise, cutoff):\n",
    "    \"\"\"Finds the position resolution given intrinsic electronics noise and\n",
    "    charge threshold\n",
    "    \n",
    "    Parameters\n",
    "    ==========\n",
    "    noise : float\n",
    "      additional measurement smearing from electronics noise in \n",
    "            units of energy deposited by an ionizing particle\n",
    "      \n",
    "    cutoff : float\n",
    "      the value below which a measured charge is registered as a zero\n",
    "      \n",
    "    Returns\n",
    "    =======\n",
    "    errors : list of floats\n",
    "      a list of differences between the measured position and the true \n",
    "      hit position\n",
    "    \"\"\"\n",
    "    samples = np.random.uniform(-0.5,0.5, size=10000)\n",
    "    errors = []\n",
    "    for x_true in samples:\n",
    "        #Calculate the charge deposited on each detector strip\n",
    "        charges = []\n",
    "        for i in range(num_strips):\n",
    "            charges.append(get_charge(i,x_true))\n",
    "\n",
    "        #Add intrinsic noise to the electronics\n",
    "        charges += np.random.normal(0, noise, num_strips)\n",
    "\n",
    "        #Find the measured position of the particle\n",
    "        x_meas = find_x_meas(charges, cutoff)\n",
    "\n",
    "        errors.append(x_meas - x_true)\n",
    "    \n",
    "    return errors"
   ]
  },
  {
   "cell_type": "markdown",
   "metadata": {
    "flags": [
     "problems",
     "solutions"
    ]
   },
   "source": [
    "First run the test_analog_electronics($\\sigma_N$, cutoff) function with $\\sigma_N =0.05$ and cutoff $= 0.2$ MIP.  How does the position resolution of the detector change as you increase/decrease these two parameters? (Note: physicists often characterize the the threshold in terms of units of $\\sigma_N$.  For example, the parameters above correspond to a threshold of $4\\sigma_N$.  Consider when exploring these parameters, describing the theshold in this way)"
   ]
  },
  {
   "cell_type": "code",
   "execution_count": null,
   "metadata": {},
   "outputs": [],
   "source": [
    "#Write your answer here"
   ]
  }
 ],
 "metadata": {
  "kernelspec": {
   "display_name": "Python 3",
   "language": "python",
   "name": "python3"
  },
  "language_info": {
   "codemirror_mode": {
    "name": "ipython",
    "version": 3
   },
   "file_extension": ".py",
   "mimetype": "text/x-python",
   "name": "python",
   "nbconvert_exporter": "python",
   "pygments_lexer": "ipython3",
   "version": "3.7.3"
  }
 },
 "nbformat": 4,
 "nbformat_minor": 2
}
