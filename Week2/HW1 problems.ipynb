{
 "cells": [
  {
   "cell_type": "markdown",
   "metadata": {},
   "source": [
    "# HW1 problems"
   ]
  },
  {
   "cell_type": "markdown",
   "metadata": {},
   "source": [
    "## Question 1: $\\pi^0$ Decay"
   ]
  },
  {
   "cell_type": "markdown",
   "metadata": {},
   "source": [
    "### Learning objectives\n",
    "In this question you will:\n",
    "\n",
    "- Review basic concepts of Special Relativity and Lorentz Boosts\n",
    "- Apply these concepts to the case of $\\pi^0\\rightarrow \\gamma \\gamma$ decay\n",
    "- Learn techniques needed to simulate the decay of an ensemble of  $\\pi^0$s with non-zero momentum\n"
   ]
  },
  {
   "cell_type": "markdown",
   "metadata": {
    "flags": [
     "problems",
     "solutions"
    ]
   },
   "source": [
    "*Adapted from Perkins $4^{th}$ Edition Problem 1.4*\n",
    "\n",
    "In this problem you will derive an expression for the distribution of photon energies produced in the decays of $\\pi^0$s that are moving with fixed momentum.  Then, you will learn how to create a simulated sample of such $\\pi^0$ decays.   Note: In this problem, we will use natural units where $\\hbar=c=1$."
   ]
  },
  {
   "cell_type": "markdown",
   "metadata": {},
   "source": [
    "### 1a. "
   ]
  },
  {
   "cell_type": "markdown",
   "metadata": {
    "flags": [
     "problems",
     "solutions"
    ]
   },
   "source": [
    "A particle beam consists of $\\pi^0$'s all with energy $E_{lab}$ and all traveling in the $+z$ direction. Find an expression for the energy of the photons produced from the $\\pi^0$ decays as a function of $m_\\pi$, $E_{lab}$ and $\\theta^*$ (the angle of emission  of the  photon with respect to the $z$-axis in the pion rest frame).  Using this expression, show that the lab energy spectrum of the photons is flat, extending from $E_{lab}\\left (1+\\beta \\right )/2$ to $E_{lab}\\left (1-\\beta \\right )/2$, where $\\beta$ is the velocity of the $\\pi^0$ in the lab frame."
   ]
  },
  {
   "cell_type": "markdown",
   "metadata": {},
   "source": [
    "Write your answer here"
   ]
  },
  {
   "cell_type": "markdown",
   "metadata": {},
   "source": [
    "### 1b. "
   ]
  },
  {
   "cell_type": "markdown",
   "metadata": {
    "flags": [
     "problems",
     "solutions"
    ]
   },
   "source": [
    "Find an expression for the disparity $D$ (the ratio of the energy of the higher energy photon to the energy of the lower energy) and show that in the relativistic limit $\\beta\\approx 1$, $D>3$ in half the decays and $D>7$ in one quarter"
   ]
  },
  {
   "cell_type": "markdown",
   "metadata": {},
   "source": [
    "Write your answer here"
   ]
  },
  {
   "cell_type": "markdown",
   "metadata": {},
   "source": [
    "### 1c. "
   ]
  },
  {
   "cell_type": "markdown",
   "metadata": {
    "flags": [
     "problems",
     "solutions"
    ]
   },
   "source": [
    "It is often useful for physicists to simulate experimental data.  Such simulations allow us generate an ensemble of events corresponding to a given physical process and to study them.  Generated events can be passed through a simulated detector that has imperfections (finite resolution, missing channels, incomplete angular coverage, etc) and the effect of such imperfections on our measurements can be assessed.  This problem is our first example of creating such simulated data.  Our simulation will be quite simple but the concepts developed here will be used through the semester."
   ]
  },
  {
   "cell_type": "markdown",
   "metadata": {
    "flags": [
     "problems",
     "solutions"
    ]
   },
   "source": [
    "Assume we have a beam of 10000 $\\pi^0$ all with energy 5 GeV.  Simulate the decay of these pions and plot (histogram) the following distributions:\n",
    "- The energies of the photons produced in the $\\pi^0$ decay\n",
    "- The disparity of the decays\n",
    "- The angles $\\theta$ between the momenta of the photons and that of the $\\pi^0$ in the lab frame.\n",
    "\n",
    "Notes:\n",
    "- Make sure the given function implements what's defined in the documentation\n",
    "- You can add more functions for intermediate steps if you want\n",
    "- Zeros or arrays of zeros are placeholders for your code\n",
    "    \n",
    "Hints: \n",
    "- For each decay, first simulate the decay in the pion center of mass and then Lorentz boost to the lab frame \n",
    "- Since in the rest frame of the pion, the decay is isotropic, the distribution of $\\cos \\theta^*$ is uniformly distributed.  If for each event you pull a random number uniformly distributed between 0 and 1 and set $\\cos \\theta^* $ for that event equal to the random number, the decays will have the right distribution.\n",
    "- In principle, you could find the $\\phi^*$ angle for each decay by pulling a second uniformly distributed random number, but for this problem you will not need the $x$ and $y$ components of the photon momentum separately so you don't need to do this."
   ]
  },
  {
   "cell_type": "code",
   "execution_count": 1,
   "metadata": {},
   "outputs": [],
   "source": [
    "import numpy as np\n",
    "import matplotlib.pyplot as plt\n",
    "%matplotlib inline\n",
    "\n",
    "def piZeroDecay(piEnergy, nevents):\n",
    "    \"\"\"Compute the lab-frame energies and angles of pi^0 decay photons. \n",
    "    Randomly picks cos(Theta*) for the pi^0 decays and then boosts the \n",
    "    photons from the pi^0 rest frame to the lab frame.\n",
    "    \n",
    "    Parameters\n",
    "    ==========\n",
    "    piEnergy : float\n",
    "      the energy of the pi^0 in the lab frame in GeV\n",
    "      \n",
    "    nevents : int\n",
    "      number of decays to simulate\n",
    "      \n",
    "    Returns\n",
    "    =======\n",
    "    Elab1 : array\n",
    "      1-d array of length nevents representing higher-energy photon lab \n",
    "      frame energies\n",
    "      \n",
    "    Elab2 : array\n",
    "      1-d array of length nevents representing lower-energy photon lab \n",
    "      frame energies\n",
    "      \n",
    "    ThetaLab1 : array\n",
    "      1-d array of length nevents representing angles (in radians) between \n",
    "      higher-energy photon and pi^0 momenta\n",
    "      \n",
    "    ThetaLab2 : array\n",
    "      1-d array of length nevents representing angles (in radians) between \n",
    "      lower-energy photon and pi^0 momenta\n",
    "    \"\"\"\n",
    "    Elab1 = np.zeros(nevents)\n",
    "    Elab2 = np.zeros(nevents)\n",
    "    \n",
    "    ThetaLab1 = np.zeros(nevents)\n",
    "    ThetaLab2 = np.zeros(nevents)\n",
    "    \n",
    "    return Elab1, Elab2, ThetaLab1, ThetaLab2    "
   ]
  },
  {
   "cell_type": "code",
   "execution_count": 3,
   "metadata": {},
   "outputs": [
    {
     "data": {
      "text/plain": [
       "Text(0.5,1,'Photon Energy in Lab Frame for 0.0 GeV $\\\\pi^0$ Decays')"
      ]
     },
     "execution_count": 3,
     "metadata": {},
     "output_type": "execute_result"
    },
    {
     "data": {
      "image/png": "[encoded data removed]",
      "text/plain": [
       "<Figure size 432x288 with 1 Axes>"
      ]
     },
     "metadata": {},
     "output_type": "display_data"
    }
   ],
   "source": [
    "requestedEnergy = 0.  # energy in GeV\n",
    "nevents = 10000        # number of events to simulate\n",
    "\n",
    "E1, E2, ThetaLab1, ThetaLab2 = piZeroDecay(requestedEnergy, nevents)\n",
    "gammaEnergy = np.concatenate((E1,E2)) #array of photon energies\n",
    "disparity = np.zeros(nevents)\n",
    "\n",
    "# Note: We've provided you with the plotting code on this first assignment\n",
    "# Fill the histogram.  The hist function returns entries per bin, \n",
    "# bin boundaries and the objects representing the plotted patches\n",
    "n, bins, patchs = plt.hist(gammaEnergy,bins=10,range=(0.0,requestedEnergy),facecolor='yellow')\n",
    "\n",
    "# The code below draws error bars with size sqrt(number of events)\n",
    "bin_centers = 0.5*(bins[1:] + bins[:-1])\n",
    "plt.errorbar(bin_centers,n,xerr=None,yerr=n**0.5,fmt='o',ecolor='black',markerfacecolor='black')\n",
    "\n",
    "# Label the x and y axes and add a title\n",
    "plt.xlabel('Photon Energy [GeV]')\n",
    "plt.ylabel('Number of Photons')\n",
    "name = \"Photon Energy in Lab Frame for \"+str(requestedEnergy)+r\" GeV $\\pi^0$ Decays\"\n",
    "plt.title(name)"
   ]
  },
  {
   "cell_type": "code",
   "execution_count": 4,
   "metadata": {},
   "outputs": [
    {
     "data": {
      "text/plain": [
       "Text(0.5,1,'Disparity for 0.0 GeV $\\\\pi^0$ Decays')"
      ]
     },
     "execution_count": 4,
     "metadata": {},
     "output_type": "execute_result"
    },
    {
     "data": {
      "image/png": "[encoded data removed]",
      "text/plain": [
       "<Figure size 432x288 with 1 Axes>"
      ]
     },
     "metadata": {},
     "output_type": "display_data"
    }
   ],
   "source": [
    "# Fill the histogram.  Note: np.clip() makes the last bin an overflow bin\n",
    "maxRange=50\n",
    "plt.hist(np.clip(disparity,1.0,maxRange),bins=100,range=(1.0,maxRange),facecolor='green')\n",
    "# Label the x and y axes and add a title\n",
    "plt.xlabel('disparity')\n",
    "plt.ylabel('Number of Events')\n",
    "name = \"Disparity for \"+str(requestedEnergy)+r\" GeV $\\pi^0$ Decays\"\n",
    "plt.title(name)"
   ]
  },
  {
   "cell_type": "code",
   "execution_count": 6,
   "metadata": {},
   "outputs": [
    {
     "data": {
      "text/plain": [
       "<matplotlib.legend.Legend at 0x113399f98>"
      ]
     },
     "execution_count": 6,
     "metadata": {},
     "output_type": "execute_result"
    },
    {
     "data": {
      "image/png": "[encoded data removed]",
      "text/plain": [
       "<Figure size 432x288 with 1 Axes>"
      ]
     },
     "metadata": {},
     "output_type": "display_data"
    }
   ],
   "source": [
    "# Fill the histogram.  Note: np.clip() makes the last bin an overflow bin\n",
    "\n",
    "# Convert radians to milli-radians for easier plotting\n",
    "plt.hist(ThetaLab1*1e3,bins=100,range=(0,300),alpha=0.8,label=\"high-energy photon\")\n",
    "plt.hist(ThetaLab2*1e3,bins=100,range=(0,300),alpha=0.8,label=\"low-energy photon\")\n",
    "\n",
    "# Label the x and y axes and add a title\n",
    "plt.xlabel(r'$\\theta$ [milli-radian]')\n",
    "plt.ylabel('Number of Events')\n",
    "name = r\"$\\theta$ for \"+str(requestedEnergy)+r\" GeV $\\pi^0$ Decays\"\n",
    "plt.title(name)\n",
    "plt.legend(frameon=False)"
   ]
  },
  {
   "cell_type": "markdown",
   "metadata": {},
   "source": [
    "### 1d. "
   ]
  },
  {
   "cell_type": "markdown",
   "metadata": {
    "flags": [
     "problems",
     "solutions"
    ]
   },
   "source": [
    "Modify your simulation so that instead of having a fixed energy beam, the $\\pi^0$ energy is uniformly distributed between 1 and 20 GeV.  Make a 2D histogram of the opening angle between the two photons (measured in milli-radians) as a function of the $\\pi^0$ energy."
   ]
  },
  {
   "cell_type": "code",
   "execution_count": 7,
   "metadata": {},
   "outputs": [
    {
     "data": {
      "text/plain": [
       "Text(0.5,1,'Opening Angle for 0.0 to 0.0 GeV $\\\\pi^0$ Decays')"
      ]
     },
     "execution_count": 7,
     "metadata": {},
     "output_type": "execute_result"
    },
    {
     "data": {
      "image/png": "[encoded data removed]",
      "text/plain": [
       "<Figure size 432x288 with 1 Axes>"
      ]
     },
     "metadata": {},
     "output_type": "display_data"
    }
   ],
   "source": [
    "bounds = 0,0 #range of pion energies\n",
    "\n",
    "energies = np.zeros(nevents)\n",
    "E1, E2, ThetaLab1, ThetaLab2 = piZeroDecay(energies,nevents)\n",
    "\n",
    "#since the photons must have opposite phi, the angle between them is the sum of their thetas\n",
    "openingAngles = (ThetaLab1+ThetaLab2)*1e3\n",
    "\n",
    "\n",
    "plt.scatter(energies,openingAngles,s=2) # s controls the size of the points that are draw.                                                               \n",
    "plt.xlabel('Pion Energy [GeV]')\n",
    "plt.ylabel('Opening Angle [milli-radian]')\n",
    "name = r\"Opening Angle for %.1f to %.1f GeV $\\pi^0$ Decays\"%bounds\n",
    "plt.title(name)"
   ]
  },
  {
   "cell_type": "markdown",
   "metadata": {},
   "source": [
    "### 1e. "
   ]
  },
  {
   "cell_type": "markdown",
   "metadata": {
    "flags": [
     "problems",
     "solutions"
    ]
   },
   "source": [
    "In the ATLAS detector, photons are identifed in the electromagnetic calorimeter by looking for a narrow energy cluster. Assume that two photons will be *merged* into a single cluster if their opening angles differ by less than 75 milli-radians.  Using your scatter plot above, estimate the maximum energy $\\pi^0$ for which the decay photons can be cleanly separated. (Note: the ATLAS detector is more complicated than the description presented in this problem, having different granularities in $\\theta$ and $\\phi$ directions.  Moreover, the experiment can *identify* $\\pi^0$ at higher energies than suggested here by looking at the width of the merged energy deposit from the two clusters.)"
   ]
  },
  {
   "cell_type": "markdown",
   "metadata": {},
   "source": [
    "Write your answer here"
   ]
  }
 ],
 "metadata": {
  "kernelspec": {
   "display_name": "Python 3",
   "language": "python",
   "name": "python3"
  },
  "language_info": {
   "codemirror_mode": {
    "name": "ipython",
    "version": 3
   },
   "file_extension": ".py",
   "mimetype": "text/x-python",
   "name": "python",
   "nbconvert_exporter": "python",
   "pygments_lexer": "ipython3",
   "version": "3.7.3"
  }
 },
 "nbformat": 4,
 "nbformat_minor": 2
}
