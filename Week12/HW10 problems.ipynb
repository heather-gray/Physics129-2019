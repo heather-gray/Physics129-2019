{
 "cells": [
  {
   "cell_type": "markdown",
   "metadata": {},
   "source": [
    "# HW10 Problems: \n",
    "### Learning objectives\n",
    "  * Develop a deeper understanding of QCD by exploring the consequences of SU(2) color symmetry\n",
    "  * Study the weak interaction in the context of kaon decays\n",
    "  * Understand the phenomology of neutrino oscillations\n",
    "  * Study the expression of the mixing probability as a function of distance from the neutrino production point\n",
    "  * Learn how the best estimate of $\\Delta m^2$ and its uncertainty can be obtained using a fit to experimental data."
   ]
  },
  {
   "cell_type": "markdown",
   "metadata": {},
   "source": [
    "## Question 1: QCD (Thomson 10.5)\n",
    "\n",
    "Draw the lowest-order QCD Feynman diagrams for the process $p\\bar{p} \\rightarrow jj + X$ where $j$ is a jet and $Z$ represents the remnants of the colliding hadrons. \n",
    "\n",
    "### 1a (2 pts) \n",
    "\n",
    "Scattering of quarks and anti-quarks"
   ]
  },
  {
   "cell_type": "markdown",
   "metadata": {},
   "source": [
    "Your answer here"
   ]
  },
  {
   "cell_type": "markdown",
   "metadata": {},
   "source": [
    "### 1b (2 pts)\n",
    "\n",
    "Scattering of a quark/antiquark and a gluon"
   ]
  },
  {
   "cell_type": "markdown",
   "metadata": {},
   "source": [
    "Your answer here"
   ]
  },
  {
   "cell_type": "markdown",
   "metadata": {},
   "source": [
    "### 1c (2 pts)\n",
    "\n",
    "Scattering of gluons"
   ]
  },
  {
   "cell_type": "markdown",
   "metadata": {},
   "source": [
    "Your answer here"
   ]
  },
  {
   "cell_type": "markdown",
   "metadata": {},
   "source": [
    "## Question 2: Weak Interaction (Thomson 11.8)\n",
    "\n",
    "Charged kaons have several weak interaction decay modes, the largest of which are:\n",
    "    \n",
    "   * $K^+ (u \\bar{s}) \\rightarrow \\mu^+ \\nu_\\mu$\n",
    "   * $K^+ \\rightarrow \\pi^+ \\pi^0$\n",
    "   * $K^+ \\rightarrow \\pi^+ \\pi^+ \\pi^-$\n"
   ]
  },
  {
   "cell_type": "markdown",
   "metadata": {},
   "source": [
    "### 2a (2 pts) \n",
    "\n",
    "Draw the Feynman diagrams for these three weak decays"
   ]
  },
  {
   "cell_type": "markdown",
   "metadata": {},
   "source": [
    "Your answer here"
   ]
  },
  {
   "cell_type": "markdown",
   "metadata": {},
   "source": [
    "### 2b (2 pts)\n",
    "\n",
    "Using the measured branching ratio\n",
    "\n",
    "$Br(K^+ \\rightarrow \\mu^+ \\nu_\\mu) = 63.55 \\pm 0.11$~%\n",
    "\n",
    "estimate the lifetime of the charged kaon.\n",
    "\n",
    "Hint: Charged pions decays almost 100% of the time by the weak interaction $\\pi^+ \\rightarrow \\mu^+ \\nu_\\mu$ and have a lifetime of $(2.6033 \\pm 0.0005) \\times 10^{-8}$. "
   ]
  },
  {
   "cell_type": "markdown",
   "metadata": {},
   "source": [
    "Your answer here"
   ]
  },
  {
   "cell_type": "markdown",
   "metadata": {},
   "source": [
    "## Question 3: Neutrino Oscillations\n",
    "\n",
    "Consider a system with two massive neutrinos, $\\nu_e$ and $\\nu_\\mu$. An electron neutrino, $\\nu_e$, created at time $t= 0$ in the core of the Sun, is described as a linear combination of two mass eigenstates $\\nu_1$and $\\nu_2$:\n",
    "$$\n",
    "\\left | \\nu_e \\right \\rangle = \\cos\\theta \\left | \\nu_1 \\right \\rangle + \\sin \\theta  \\left |\\nu_2 \\right \\rangle\n",
    "$$\n",
    "where $\\theta$ is a two-generation mixing angle. Similarly, the muon neutrino would be defined as the orthogonal linear combination:\n",
    "$$\n",
    "\\left | \\nu_\\mu \\right \\rangle = -\\sin\\theta \\left | \\nu_1 \\right \\rangle +\n",
    "\\cos \\theta  \\left |\\nu_2 \\right \\rangle\n",
    "$$"
   ]
  },
  {
   "cell_type": "markdown",
   "metadata": {},
   "source": [
    "### 3a (3 pts)\n",
    "\n",
    "Show that the probability of finding a muon neutrino $\\nu_\\mu$ at a distance $L=t$ from the source is given by:\n",
    "$$\n",
    "P_{\\nu_e\\rightarrow \\nu_\\mu}(t) = \\sin^2\\left (2\\theta\\right )\n",
    "\\sin^2\\left (\\frac{\\Delta m^2 L}{4E}\\right )\n",
    "$$\n",
    "where $E\\approx p >>m_1,m_2$ is the neutrino energy and $\\Delta m^2 = {m_1}^2 - {m_2}^2$."
   ]
  },
  {
   "cell_type": "markdown",
   "metadata": {},
   "source": [
    "Your answer here"
   ]
  },
  {
   "cell_type": "markdown",
   "metadata": {},
   "source": [
    "### 3b (3 pts)\n",
    "\n",
    "With $E$ measured in GeV, $L$ in km,and in $\\Delta m^2$ eV$^2$, show that the previous formula can be \n",
    "re-written as:\n",
    "$$\n",
    "P_{\\nu_e\\rightarrow \\nu_\\mu}(t) = \\sin^2\\left (2\\theta \\right )\n",
    "\\sin^2 \\left (\\frac{1.27 \\Delta m^2 L}{E} \\right )\n",
    "$$\n",
    "This formula applies to any two-flavor neutrino mixing.\n",
    "  "
   ]
  },
  {
   "cell_type": "markdown",
   "metadata": {},
   "source": [
    "Your answer here"
   ]
  },
  {
   "cell_type": "markdown",
   "metadata": {},
   "source": [
    "### 3c (4 pts)\n",
    "The Super-Kamiokande (SuperK) experiment has analyzed the atmospheric ($\\nu_e$ and $\\nu_\\mu$) neutrino data and\n",
    "shown that they are consistent with two-flavor $\\nu_\\mu \\rightarrow \\nu_\\tau $ oscillations with\n",
    "$\\sin^2(2\\theta)\\sim1$ and $\\Delta m^2\\approx 10^{-3}$ (for some helpful visualizations of neutrino oscillations, see the [wikipedia page](https://en.wikipedia.org/wiki/Neutrino_oscillation)).\n",
    "They have also looked at the ratio of the number of $\\nu_\\mu$ events observed in data to the Monte Carlo prediction.\n",
    "The muon neutrinos were detected through the charge-current reaction emitting a muon. The approximate results are shown below.\n",
    "The distance from the production point to the detector was varied by\n",
    "observing the azimuthal dependence of the neutrino flux. Here, Monte Carlo  takes into account\n",
    "muon production in the atmosphere, energy-dependent efficiencies, etc, but assumes no oscillations.\n",
    "Thus, if neutrinos oscillate, the ratio of the yield in data to that in Monte Carlo should vary \n",
    "with distance according to the formula you derived above.\n",
    "\n",
    "$$\n",
    "\\begin{array}{|l|l|}\n",
    "    \\hline\n",
    "  L/E_\\nu\\; (km/GeV) & Data / Monte Carlo\\\\\n",
    " \\hline\n",
    " 0.7& 1.00 \\pm 0.20 \\\\\n",
    "20 & 1.00 \\pm 0.08\\\\\n",
    "70 & 0.90 \\pm 0.08\\\\\n",
    "200 & 0.83 \\pm 0.15\\\\\n",
    "700& 0.65 \\pm 0.15\\\\\n",
    "2000& 0.70 \\pm 0.08\\\\\n",
    "7000& 0.63 \\pm 0.06\\\\\n",
    "20000& 0.61 \\pm 0.08\\\\\n",
    "\\hline\n",
    "\\end{array}\n",
    "$$\n",
    "\n",
    "\n",
    "Make a plot of the results above with $L/E_\\nu$ on the horizontal\n",
    "axis in log scale. At large $L/E_\\nu$, the muon neutrinos have\n",
    "presumably undergone numerous oscillations and have averaged out to\n",
    "roughly half the initial rate.  Using\n",
    "$\\sin^2\\left (2\\theta \\right ) = 1$, make an estimate of $\\Delta m^2$."
   ]
  },
  {
   "cell_type": "code",
   "execution_count": null,
   "metadata": {},
   "outputs": [],
   "source": [
    "'''Your code here'''"
   ]
  }
 ],
 "metadata": {
  "kernelspec": {
   "display_name": "Python 3",
   "language": "python",
   "name": "python3"
  },
  "language_info": {
   "codemirror_mode": {
    "name": "ipython",
    "version": 3
   },
   "file_extension": ".py",
   "mimetype": "text/x-python",
   "name": "python",
   "nbconvert_exporter": "python",
   "pygments_lexer": "ipython3",
   "version": "3.7.4"
  }
 },
 "nbformat": 4,
 "nbformat_minor": 4
}
