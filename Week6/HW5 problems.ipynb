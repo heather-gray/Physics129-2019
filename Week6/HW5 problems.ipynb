{
 "cells": [
  {
   "cell_type": "markdown",
   "metadata": {},
   "source": [
    "# HW5 Problems\n",
    "### Learning objectives\n",
    "* Apply Fermi's Golden Rule to calculate particle decays\n",
    "* Apply what we've learnt about cross-sections and decays\n",
    "* Review the properties of Breit-Wigner resonances\n",
    "* Understand how the total width of a Breit-Wigner can be used to count the number of invisible states\n",
    "* Apply this concepts to the Z-lineshape data from LEP\n",
    "* Practice fitting\n",
    "* Understand how we know there are no additional light neutrinos"
   ]
  },
  {
   "cell_type": "markdown",
   "metadata": {},
   "source": [
    "## Question 1: Decay of $\\pi^0 \\rightarrow \\gamma\\gamma$ Inspired by Griffiths 6.6\n",
    "\n",
    "As an application of the Golden Rule, consider the decay\n",
    "$\\pi^0\\to\\gamma\\gamma$. We do not know the amplitude $\\mathcal{M}$\n",
    "a-priori, but we can estimate it using dimensional analysis, and see\n",
    "how close we come. "
   ]
  },
  {
   "cell_type": "markdown",
   "metadata": {},
   "source": [
    "### 1a. (3 pts)\n",
    "  $\\mathcal{M}$ must have the dimension of mass, and\n",
    "  there is only one mass in the problem. Moreover, as we will learn a\n",
    "  bit later, emission of each photon introduces a factor\n",
    "  $\\sqrt{\\alpha}$, where $\\alpha=1/137$ is the fine structure\n",
    "  constant. So the amplitude must be proportional to $\\alpha m_\\pi$,\n",
    "  times some factors (of $\\pi$, typically). Assume these factors are\n",
    "  of $\\mathcal{O}(1)$ and estimate the lifetime of\n",
    "  $\\pi^0$. Compare to the experimental value. "
   ]
  },
  {
   "cell_type": "markdown",
   "metadata": {},
   "source": [
    "Write your answer here"
   ]
  },
  {
   "cell_type": "markdown",
   "metadata": {},
   "source": [
    "### 1b. (3 pts)\n",
    "  Evidently, the decay of a composite\n",
    "  pseudo-scalar $\\pi^0$ to two vector particles (photons) is a much\n",
    "  more complicated process, so our estimates above are off (by a\n",
    "  factor of order $\\pi^2$, incidentally). This shows that dimensional\n",
    "  analysis can only get us so far. Instead of guesstimating the\n",
    "  amplitude, use the explicit expression (the sum over photon spins is\n",
    "  already included here):\n",
    "\n",
    "\n",
    "\\begin{equation*}\n",
    "|\\mathcal{M}|^2 = \\frac{\\alpha^2}{f_{\\pi0}^2}\\frac{m_\\pi^4}{2\\pi^2}\n",
    "\\end{equation*}\n",
    "\n",
    "where $f_{\\pi0}$, the $\\pi^0$ decay constant, is a parameter determined by\n",
    "the pion wavefunction. Using the value of $\\pi^0$ lifetime from PDG,\n",
    "compute the value of $f_{\\pi0}$. "
   ]
  },
  {
   "cell_type": "markdown",
   "metadata": {},
   "source": [
    "Write your answer here"
   ]
  },
  {
   "cell_type": "markdown",
   "metadata": {},
   "source": [
    "### 1c. (4 pts)\n",
    "  Decay of the charged pion, $\\pi^+\\to\\mu^+\\nu_\\mu$, is described by the\n",
    "  following matrix element:\n",
    "\n",
    "\\begin{equation*}\n",
    "|\\mathcal{M}|^2 = 4 G_F^2 f_{\\pi+}^2 m_\\mu^2 (p\\cdot k)\n",
    "\\end{equation*}\n",
    "\n",
    "where $G_F$ is the Fermi coupling constant that describes the strength\n",
    "of the weak interaction (see PDG Booklet, p.5), $f_{\\pi+}$ is the\n",
    "decay constant of the \n",
    "charged pion, $p$ is the 4-momentum of the outgoing muon, and $k$ is\n",
    "the 4-momentum of the outgoing neutrino. As in (b), the sum over final\n",
    "state spins is already included, so additional\n",
    "factors of $(2S+1)$ in the decay width are not needed. Using these\n",
    "expressions and the experimental value of $\\pi^+$ lifetime,\n",
    "determine the decay constant $f_{\\pi+}$. Comment on how it compares \n",
    "to the value of $f_{\\pi0}$ you find in part b).\n",
    "\n",
    "\n",
    "Hint: Treat the neutrino as massless in this problem"
   ]
  },
  {
   "cell_type": "markdown",
   "metadata": {},
   "source": [
    "Write your answer here"
   ]
  },
  {
   "cell_type": "markdown",
   "metadata": {},
   "source": [
    "## Question 2: Number of Light Neutrinos\n",
    "\n",
    "In lecture 1, you were introduced to the vector bosons corresponding to the fundamental forces. Today, we'll focus on the $Z$-boson, the neutral vector boson corresponding to the weak force. Experiments at the LEP $e^+e^-$ collider at CERN made very precise measurements of the properties of the $Z$ boson. Some of the earliest measurements were to determine the $Z$ mass and width. But, we'll focus here today about how to use this data to constrain the number of light neutrino species that the $Z$ can decay to. This problem uses data compiled by the Particle Data Group to reproduce these measurements, so please feel free to consult your booklets. A detailed discussion of the processs $e^+e^-\\rightarrow Z\\rightarrow anything$ can be found in Chapter 16 of Thompson. The concepts used in this problem are presented in Section 16.2, but we'll discuss them much later in the course. Today, the goal is to try out the fitting skills that you've developed in class and use them to extract results from the data."
   ]
  },
  {
   "cell_type": "markdown",
   "metadata": {},
   "source": [
    "The $Z$ mass and width were measured at LEP by measuring the cross section as a function of center-of-mass energy for the processes $e^+e^-\\rightarrow \\mathrm{hadrons}$ and fitting the results to a Breit-Wigner function, which describes the observed shape of particles with parameters describing the mass and the width. Here hadrons indicates the sum of all the different decays of the $Z$ boson to different types of hadrons. Remember the connection between the decay rate and the width discussed in class.\n",
    "\n",
    "We could solve the problem by fitting the cross-section directly. However, it turns out that it is easier instead to use a ratio of cross-sections. The precise variable that we'll use is called $R$, which is defined as the ratio of the measured rate for $e^+e^- \\rightarrow $hadrons to the predicted cross section for $e^+e^-\\rightarrow \\mu^+\\mu^-$. It turns out that taking this ratio makes is easier to see some of the important physical effects of the $Z$ resonance.\n",
    "\n",
    "The code below fills arrays with the measured value of $R$ as a function of center-of-mass energy (Ecm) and the uncertainties on the measurement of R (err)."
   ]
  },
  {
   "cell_type": "code",
   "execution_count": 1,
   "metadata": {},
   "outputs": [],
   "source": [
    "# You don't have to edit this cell, just run it\n",
    "\n",
    "file = \"zBosonEcmScan.csv\"\n",
    "Ecm = []\n",
    "R = []\n",
    "cross = []\n",
    "err = []\n",
    "alpha=1.0/129.0\n",
    "for line in open(file,\"r\"):\n",
    "    line = line.strip()\n",
    "    info = line.split(\",\")\n",
    "    Ecm.append(float(info[0]))\n",
    "    R.append(float(info[1]))\n",
    "    err.append(float(info[2]))"
   ]
  },
  {
   "cell_type": "markdown",
   "metadata": {},
   "source": [
    "### 2a (4 pts) \n",
    "\n",
    "Fit the data above to a relativistic Breit-Wigner function (see for example [wikipedia](https://en.wikipedia.org/wiki/Relativistic_Breit%E2%80%93Wigner_distribution )). You are going to want to use the [*scipy.optimize.curve_fit*](https://docs.scipy.org/doc/scipy/reference/generated/scipy.optimize.curve_fit.html) function to fit the data. You will need to define the Breit-Wigner function yourself. Please note that when you call curve_fit, you need to provide initial guesses for the parameters.\n",
    "Plot the output of the fit and look at the outputs of $\\textit{curve_fit}$. Did you achieve a good fit to the data?"
   ]
  },
  {
   "cell_type": "code",
   "execution_count": null,
   "metadata": {},
   "outputs": [],
   "source": [
    "import math\n",
    "import numpy as np\n",
    "import matplotlib.pyplot as plt\n",
    "from scipy.optimize import curve_fit\n",
    "\n",
    "\n",
    "def relBW(x,N,Mass,Gamma):\n",
    "    \"\"\"Defines the relativistic Breit-Wigner function (see link in text above), with additional\n",
    "    factor N to scale output. Make sure you use self-consistent units.\n",
    "    \n",
    "    Parameters\n",
    "    ==========\n",
    "    x : float\n",
    "      input energy\n",
    "      \n",
    "    N : float\n",
    "      factor to scale function output\n",
    "      \n",
    "    Mass : float\n",
    "      mass of the particle whose resonance is being considered\n",
    "      \n",
    "    Gamma : float\n",
    "      decay width of the resonance\n",
    "      \n",
    "    Returns\n",
    "    =======\n",
    "    dist_value : float\n",
    "      value of the Breit-Wigner function at the given energy for the input parameters\n",
    "    \"\"\"\n",
    "\n",
    "    '''Your code here'''\n",
    "\n",
    "    return dist_value\n"
   ]
  },
  {
   "cell_type": "markdown",
   "metadata": {},
   "source": [
    "### 2b (1 pts)\n",
    "\n",
    "How do your fit results for the $Z$ mass and width compare to the PDG values?"
   ]
  },
  {
   "cell_type": "markdown",
   "metadata": {},
   "source": [
    "Write your answer here"
   ]
  },
  {
   "cell_type": "markdown",
   "metadata": {},
   "source": [
    "### 2c (4 pts)\n",
    "You will learn later this semester more about the properties of the weak interation. For now, we will quote the relevant information for your use in this problem.  The $Z$ boson can decay to all species of fermion: charged leptons ($e$, $\\mu$ and $\\tau$), quarks ($u$, $d$, $s$, $c$ and $b$) and neutrinos. The $Z$ boson cannot decay to top quarks because the mass of the $Z$ boson is less than the sum of the masses of a pair of top quarks.\n",
    "\n",
    "The partial width to each type of fermion is: $$\n",
    "\\Gamma(Z\\rightarrow f\\overline f) = \\frac{g^2}{48\\pi\\cos^2\\theta_W} \\left ( c_V ^2 + C_A^2 \\right )_f M_Z\n",
    "$$ \n",
    "where \n",
    "* $\\cos\\theta_W $ is a universal constant defined by $\\sin^2\\theta_W = 0.2314\\pm 0.00012$ (it's called the weak mixing angle and we'll talk about it later in class).\n",
    "* $c_V$ and $c_A$ are parameters which have different numerical values for up and down type quarks and for leptons. You can find the appropriate values on p423 of Thomson.\n",
    "\n",
    "We discussed in class that the total width of a particle is the sum of the partial widths to all final states:\n",
    "$$\n",
    "\\Gamma = \\Sigma_i \\Gamma_i.\n",
    "$$\n",
    "\n",
    "\n",
    "For the $Z$ boson this means that $\\Gamma = 3\\Gamma_\\ell + \\Gamma_{hadrons} + N_\\nu \\Gamma_\\nu $. Therefore, use the results of your measurement above to determine the number of neutrino species. Please assume that all couplings (and partial decay widths) are consistent with the Standard Model. Don't forget to include a factor of 3 in the width when calculating $\\Gamma_{hadrons}$ because quarks can come in 3 colours."
   ]
  },
  {
   "cell_type": "code",
   "execution_count": null,
   "metadata": {},
   "outputs": [],
   "source": [
    "'''Your code here'''"
   ]
  },
  {
   "cell_type": "markdown",
   "metadata": {},
   "source": [
    "### 2d (1 pts)\n",
    "Discuss if there could (or could not) be additional heavier neutrino species in the Standard Model."
   ]
  },
  {
   "cell_type": "code",
   "execution_count": null,
   "metadata": {},
   "outputs": [],
   "source": [
    "Write your answer here"
   ]
  }
 ],
 "metadata": {
  "kernelspec": {
   "display_name": "Python 3",
   "language": "python",
   "name": "python3"
  },
  "language_info": {
   "codemirror_mode": {
    "name": "ipython",
    "version": 3
   },
   "file_extension": ".py",
   "mimetype": "text/x-python",
   "name": "python",
   "nbconvert_exporter": "python",
   "pygments_lexer": "ipython3",
   "version": "3.7.3"
  }
 },
 "nbformat": 4,
 "nbformat_minor": 4
}
