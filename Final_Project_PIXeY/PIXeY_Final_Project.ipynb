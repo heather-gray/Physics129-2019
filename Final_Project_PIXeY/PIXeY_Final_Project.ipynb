{
 "cells": [
  {
   "cell_type": "markdown",
   "metadata": {},
   "source": [
    "# $^{83\\mathrm{m}}$Kr Calibration Data for a Xenon Time Projection Chamber"
   ]
  },
  {
   "cell_type": "markdown",
   "metadata": {},
   "source": [
    "## Introduction"
   ]
  },
  {
   "cell_type": "markdown",
   "metadata": {},
   "source": [
    "Time projection chambers (TPCs), particularly those using liquid xenon, have been used to conduct extremeley sensitive searches for weakly interacting massive particles (WIMPs), one of the leading dark matter candidates. For example, the LUX and XENON1T experiments have recently published final results, and their successors, LZ and XENONnT, are currently under construction. In this project, you will conduct analysis on xenon TPC calibration data collected in a smaller detector called PIXeY, which stands for Particle Identification in Xenon at Yale (where it was originally run; it's successor, CoDeX, is located at Berkeley but currently not operational)."
   ]
  },
  {
   "cell_type": "markdown",
   "metadata": {},
   "source": [
    "## Time Projection Chambers"
   ]
  },
  {
   "cell_type": "markdown",
   "metadata": {},
   "source": [
    "Time projection chambers are designed to allow reconstruction of the 3D position, energy, and interaction type for particles that scatter in the active region. An incoming particle that scatters in the detector induces prompt scintillation that is collected by photomultiplier tubes (PMTs) at the top and bottom of the detector--this light is called the S1 signal. The interaction will also ionize some xenon atoms. The liberated electrons are drifted towards the liquid surface of the detector by an applied electric field. When the electrons are liberated from the liquid surface and enter the gaseous xenon vapor above it, they also produce scintillation. This delayed signal is the S2 signal. See Figure 1 for a visual representation of these signals.\n",
    "\n",
    "If the applied electric field is sufficiently well-modelled, the time between S1 and S2 can be turned into a $z$ coordinate for the interaction. The $x$ and $y$ coordinates can be estimated from the hit pattern on the PMT arrays. The sizes of the two signals are correlated to the energy deposited in the recoil, and their relative size to one another can be used to categorize whether the particle scattered off the xenon nucleus or one of its electrons."
   ]
  },
  {
   "cell_type": "markdown",
   "metadata": {},
   "source": [
    "<div style=\"width: 500px;margin: auto\" align=\"center\">\n",
    "    <img src=\"LXe_TPC.png\">\n",
    "    Figure 1. Schematic of how a two-phase xenon TPC works, from [1].\n",
    "</div>\n"
   ]
  },
  {
   "cell_type": "markdown",
   "metadata": {},
   "source": [
    "## PIXeY"
   ]
  },
  {
   "cell_type": "markdown",
   "metadata": {},
   "source": [
    "PIXeY is a small detector, with a maximum width of 18.4 cm and an active target depth of 5.1 cm, representing about 3 kg of liquid xenon. There are 7 PMTs on each of the top and bottom faces to collect S1 and S2 light. In Figure 2, a cutaway rendering shows the hexagonal active region, contained between the cathode and anode grids. The liquid surface level lies between the gate and anode grids.\n",
    "\n",
    "A special feature of PIXeY is that the gate grid is grounded, so the cathode-gate and gate-anode electric fields can be tuned independently by setting the cathode and anode voltages. Changing the field in the active region (between the cathode and gate) results in different scintillation and charge yields for particle recoils, as well as changing the drift velocity of electrons."
   ]
  },
  {
   "cell_type": "markdown",
   "metadata": {},
   "source": [
    "<div style=\"width: 500px;margin: auto\" align=\"center\">\n",
    "    <img src=\"PIXeY_rendering.png\">\n",
    "    Figure 2. Cutaway rendering of the PIXeY detector, from [2].\n",
    "</div>"
   ]
  },
  {
   "cell_type": "markdown",
   "metadata": {},
   "source": [
    "## Calibrating a Detector"
   ]
  },
  {
   "cell_type": "markdown",
   "metadata": {},
   "source": [
    "To understand a TPC's response over a wide range of recoil energies, we use a variety of calibration sources to induce recoils of known energy in the detector. Then we can map the S1 and S2 that we see to those energies. This method is particularly effective when the calibration source is monoenergetic. LUX used a variety of radioactive isotopes to map out the detector response to electronic recoils, shown in Figure 3. As an aside, LUX also had a nuclear recoil calibration program, which is described in more detail in [3].\n",
    "\n",
    "As can be seen in Figure 3, each monoenergetic source appears roughly as a small blob in S1 versus S2. The axes of this plot are in units of single photoelectrons (spe), which are the typical units used for PMT outputs. A true PMT pulse represents at the minimum the detection of a single photon, so there is a well-defined and consistent single photon pulse size for a PMT when it is run at fixed settings. Normalizing to the detected number of photons also facilitates the comparison of the outputs of different PMTs, which might have slightly different gain values in their electronic output.\n",
    "\n",
    "To translate the S1, S2 coordinates of this blob to an energy value, we use the equation\n",
    "$$\n",
    "E_\\mathrm{total} = W \\cdot (n_e + n_\\gamma) = W \\cdot \\left( \\frac{\\mathrm{S1}}{g_1} + \\frac{\\mathrm{S2}}{g_2} \\right),\n",
    "$$\n",
    "where $W=13.7$ eV/quantum is an empirical measure of the conversion between energy deposited in liquid xenon and the quanta of light and charge crated, $g1$ is a gain factor for photons, and $g2$ is a gain factor for extracted electrons. We must calibrate the gain of S1 and S2 separately since there is inherent amplifcation in the extracted electron signal. Note that these gain factors are detector dependent values."
   ]
  },
  {
   "cell_type": "markdown",
   "metadata": {},
   "source": [
    "<div style=\"width: 500px;margin: auto\" align=\"center\">\n",
    "    <img src=\"line_sources_plot.png\">\n",
    "    Figure 3. Distribution of LUX calibration data events in log$_{10}$(S1) versus log$_{10}$(S2). Monoenergetic sources have been labeled. From [3].\n",
    "</div>"
   ]
  },
  {
   "cell_type": "markdown",
   "metadata": {},
   "source": [
    "To obtain $g1$ and $g2$, we observe that most monoenergetic sources have different light and charge yields. However, the total detected energy still adds up the energy of the source, so the sources fall on a line in S1/E versus S2/E as shown in Figure 4 below. Extrapolating the fitted line to the intercepts gives a good estimate of the gain factors. For a more detailed description of this process, see section D in [3]. \n",
    "\n",
    "An alternative approach is to use a single monoenergetic source and to make a similar plot for different electric fields in the drift region, which will also change the charge and light yields. We provide you with the data for this second approach."
   ]
  },
  {
   "cell_type": "markdown",
   "metadata": {},
   "source": [
    "<div style=\"width: 500px;margin: auto\" align=\"center\">\n",
    "    <img src=\"gain_factor_plot.png\">\n",
    "    Figure 4. Light and charge yields for the monoenergetic sources labelled in Figure 3. The line which these sources fall on can be extrapolated to obtain the gain factors $g1$ and $g2$. From [3].\n",
    "</div>"
   ]
  },
  {
   "cell_type": "markdown",
   "metadata": {},
   "source": [
    "## $^{83\\mathrm{m}}$Kr Calibration Source"
   ]
  },
  {
   "cell_type": "markdown",
   "metadata": {},
   "source": [
    "$^{83\\mathrm{m}}$Kr is a dispersed source, which means it is dissolved into the xenon to allow for decays uniformly spread throughout the active volume. The decay of this isotope actually proceeds in two steps--the first step has a half life of 1.8 hours and the second only 154 nanoseconds. For our purposes, we will treat these decays as a single 42 keV source and attempt to reconstruct the energy deposited in the PIXeY detector. However, the half-life of the intermediate state is just long enough that some of the decays appear with two S1s, while some occur quickly enough in succession that the S1s are totally overlapped. For more information about the decay structure of $^{83\\mathrm{m}}$Kr, see [2].\n",
    "\n",
    "Another aside: $^{83\\mathrm{m}}$Kr was used as a dispersed source in LUX to map out the electric field, as described in [4]. You can plot $r^2$ versus $z$ to visualize the apparent distribution of uniform events using the PIXeY data. Nonuniformities are usually taken to be a result of errors in the position reconstruction or electric field modelling (i.e. we assume the source has been uniformly dispersed)."
   ]
  },
  {
   "cell_type": "markdown",
   "metadata": {},
   "source": [
    "## References"
   ]
  },
  {
   "cell_type": "markdown",
   "metadata": {},
   "source": [
    "[1] B. J. Mount, et al. <i>The LUX-ZEPLIN Technical Design Report</i>, [arXiv:1703.09144](https://arxiv.org/abs/1703.09144), March 2017.\n",
    "\n",
    "[2] A. G. Singh, et al. <i>Analysis of $^{\\it 83\\mathrm{m}}$Kr prompt scintillation signals in the PIXeY detector</i>. [arXiv:1911.03999](https://arxiv.org/abs/1911.03999), November 2019.\n",
    "\n",
    "[3] D. S. Akerib, et al. <i>Calibration, event reconstruction, data analysis, and limit calculation for the LUX dark matter experiment</i>. [Physical Review D, 97(10)](https://doi.org/10.1103/PhysRevD.97.102008), [arXiv:1712.05696](https://arxiv.org/abs/1712.05696), May 2018.\n",
    "\n",
    "[4] D. S. Akerib, et al. <i>$^{\\it 83\\mathrm{m}}$Kr calibration of the 2013 LUX dark matter search</i>. [Physical Review D, 96(112009)](https://doi-org.libproxy.berkeley.edu/10.1103/PhysRevD.96.112009), [arXiv:1708.02566](https://arxiv.org/abs/1708.02566), December 2017."
   ]
  },
  {
   "cell_type": "markdown",
   "metadata": {},
   "source": [
    "## The Data Structure"
   ]
  },
  {
   "cell_type": "markdown",
   "metadata": {},
   "source": [
    "Follow [this link to Box](https://berkeley.box.com/s/xkxc9bh4zzojvhd9p5mmvkfy5j70fe6y) to download the datafiles (~500 MB). Please let me (Andreas) know if there are issues."
   ]
  },
  {
   "cell_type": "markdown",
   "metadata": {},
   "source": [
    "We're providing you with a set of files of processed PIXeY events from a calibration run using $^{83\\mathrm{m}}$Kr (real data!!). The processing has taken raw digitized waveforms from each of the PMTs, identified pulses in them, and computed area (in units of spe), timing, and position quantities. It has also algorithmically classified pulses as S1s and S2s. Finally, since this is known to be a $^{83\\mathrm{m}}$Kr calibration run, the dataset has been filtered to include only potential $^{83\\mathrm{m}}$Kr events, consisting of one or two S1s and one S2.\n",
    "\n",
    "Below, we load the file and print all of the variable names in the dataset. Note that I can't guarantee all of these variables are correct or meaningful. However, the general goals of this project should be achievable with the provided datafiles."
   ]
  },
  {
   "cell_type": "code",
   "execution_count": 6,
   "metadata": {},
   "outputs": [
    {
     "name": "stdout",
     "output_type": "stream",
     "text": [
      "evt_ID\n",
      "sub_evt_ID\n",
      "sub_run_id\n",
      "cathode_volts\n",
      "anode_volts\n",
      "ns1\n",
      "s1\n",
      "s1_start\n",
      "ns2\n",
      "s2\n",
      "s2_start\n",
      "s2_width\n",
      "s2_tdrift\n",
      "s2_z\n",
      "s2_x_barry\n",
      "s2_y_barry\n",
      "s2_x_chi2\n",
      "s2_y_chi2\n",
      "s2_xy_chi2\n",
      "s2_top\n",
      "s2_top_frac\n",
      "s2_sum_ch\n",
      "s2_ch\n",
      "s1a\n",
      "s1b\n",
      "s1_delta\n"
     ]
    }
   ],
   "source": [
    "import numpy as np\n",
    "\n",
    "filename = \"Kr83m_100mVns_C2_A2.5_newFilter_botT23mV_noVeto_150415-1202_merged_trimed_Kr.npz\"\n",
    "\n",
    "file = np.load('data/' + filename, allow_pickle=True)\n",
    "\n",
    "# This will list the available variables in the dataset\n",
    "for element in file:\n",
    "    print(element)"
   ]
  },
  {
   "cell_type": "markdown",
   "metadata": {},
   "source": [
    "For example, the S2 area for each event is simply an array:"
   ]
  },
  {
   "cell_type": "code",
   "execution_count": 8,
   "metadata": {},
   "outputs": [
    {
     "data": {
      "text/plain": [
       "array([ 124.14348911,  226.62505048, 1062.91057541,  141.74602792,\n",
       "        408.5093215 ,  111.54206867,  125.44327194,   98.5938004 ,\n",
       "       1246.49933913,  225.92993837])"
      ]
     },
     "execution_count": 8,
     "metadata": {},
     "output_type": "execute_result"
    }
   ],
   "source": [
    "file['s2'][:10]"
   ]
  },
  {
   "cell_type": "markdown",
   "metadata": {},
   "source": [
    "Use one of the datafiles to make some initial plots, to see if you understand the variable names and if the data makes sense. The significance of most of these variables should be decipherable from their name, but if you have questions feel free to reach out to me (Andreas). \n",
    "\n",
    "Once you are comfortable with the dataset, you can fit the $^{83\\mathrm{m}}$Kr peak with a Gaussian to extract estimates for the mean size of the S1 and S2 signal (you can do this in 1D for each variable). Finally, you can make estimates for $g1$ and $g2$ for your very own calibration of PIXeY!"
   ]
  }
 ],
 "metadata": {
  "kernelspec": {
   "display_name": "Python 3",
   "language": "python",
   "name": "python3"
  },
  "language_info": {
   "codemirror_mode": {
    "name": "ipython",
    "version": 3
   },
   "file_extension": ".py",
   "mimetype": "text/x-python",
   "name": "python",
   "nbconvert_exporter": "python",
   "pygments_lexer": "ipython3",
   "version": "3.7.5"
  }
 },
 "nbformat": 4,
 "nbformat_minor": 2
}
