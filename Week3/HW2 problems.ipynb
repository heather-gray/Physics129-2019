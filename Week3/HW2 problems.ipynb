{
 "cells": [
  {
   "cell_type": "markdown",
   "metadata": {},
   "source": [
    "# HW2 Problems\n",
    "### Learning objectives\n",
    "* Review the concepts from the review of quantum mechanics, particularly angular momentum\n",
    "* Explore relations between Mandelstam variables\n",
    "* Become familiar with the Pauli spin matrices\n",
    "\n",
    "## Question 1: Mandelstam Variables\n",
    "\n",
    "*Question 2.12 from Thomson*\n",
    "\n",
    "For the process $1 + 2 \\rightarrow 3 + 4$, the Mandelstam variables $s$, $t$, and $u$ are defined as $s = (p_1 + p_2)^2$, $t = (p_1 - p_3)^2$, and $u = (p_1 - p_4)^2$. Show that\n",
    "\n",
    "\\begin{equation*}\n",
    "s + u + t = m_1^2 + m_2^2 + m_3^2 + m_4^2\n",
    "\\end{equation*}"
   ]
  },
  {
   "cell_type": "markdown",
   "metadata": {},
   "source": [
    "## Question 2: Commutation Relations\n",
    "\n",
    "*Question 2.15 from Thomson*\n",
    "\n",
    "### 2a.\n",
    "Using the commutation relations for position and momentum, prove that\n",
    "\n",
    "\\begin{equation*}\n",
    "[\\hat{L}_z, \\hat{L}_y] = i\\hat{L}_z\n",
    "\\end{equation*}\n",
    "\n",
    "### 2b.\n",
    "Using the commutation relations for the components of angular momenta prove\n",
    "\n",
    "\\begin{equation*}\n",
    "[\\hat{L}^2, \\hat{L}_x] = 0\n",
    "\\end{equation*}\n",
    "\n",
    "### 2c.\n",
    "and\n",
    "\n",
    "\\begin{equation*}\n",
    "\\hat{L}^2 = \\hat{L}_- \\hat{L}_+ + \\hat{L}_z + \\hat{L}^2_z\n",
    "\\end{equation*}"
   ]
  },
  {
   "cell_type": "markdown",
   "metadata": {},
   "source": [
    "## Question 3: Pauli spin-matrices\n",
    "\n",
    "*Question 2.16 from Thomson*\n",
    "\n",
    "### 3a.\n",
    "\n",
    "Show that the operators $\\hat{S}_i = \\frac{1}{2} \\sigma_i$, where $\\sigma_i$ are the three Pauli spin matrices:\n",
    "\n",
    "$\\hat{S}_x = \\frac{1}{2} \n",
    "\\begin{bmatrix}\n",
    "0 & 1 \\\\\n",
    "1 & 0 \n",
    "\\end{bmatrix}$, $\\hat{S}_y = \\frac{1}{2} \n",
    "\\begin{bmatrix}\n",
    "0 & -i \\\\\n",
    "i & 0 \n",
    "\\end{bmatrix}$ and $\\hat{S}_z = \\frac{1}{2} \n",
    "\\begin{bmatrix}\n",
    "1 & 0 \\\\\n",
    "0 & -1 \n",
    "\\end{bmatrix}$ \n",
    "\n",
    "satisfy the same algebra as the angular momentum operators, namely\n",
    "\n",
    "$[\\hat{S}_x, \\hat{S}_y] = i \\hat{S}_z$, $[\\hat{S}_y, \\hat{S}_z] = i \\hat{S}_x$ and $[\\hat{S}_z, \\hat{S}_x] = i \\hat{S}_y$"
   ]
  },
  {
   "cell_type": "markdown",
   "metadata": {},
   "source": [
    "### 3b.\n",
    "\n",
    "Find the eigenvalue(s) of the operator $\\hat{S}^2 = \\hat{S}_x^2 + \\hat{S}_y^2 + \\hat{S}_z^2$ and deduce that the eigenstates of $\\hat{S}_z$ are a suitable representation of a spin-half particle."
   ]
  }
 ],
 "metadata": {
  "kernelspec": {
   "display_name": "Python 3",
   "language": "python",
   "name": "python3"
  },
  "language_info": {
   "codemirror_mode": {
    "name": "ipython",
    "version": 3
   },
   "file_extension": ".py",
   "mimetype": "text/x-python",
   "name": "python",
   "nbconvert_exporter": "python",
   "pygments_lexer": "ipython3",
   "version": "3.7.3"
  }
 },
 "nbformat": 4,
 "nbformat_minor": 2
}
