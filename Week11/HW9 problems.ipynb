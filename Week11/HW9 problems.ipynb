{
 "cells": [
  {
   "cell_type": "markdown",
   "metadata": {},
   "source": [
    "# HW9 Problems: Discovery of the Gluon\n",
    "### Learning objectives\n",
    "  * learn how to calculate the sphericity tensor and understand how to interpret its eigenvalues\n",
    "  * reproduce (using simulated data) the analysis performed by Tasso to discover the gluon,\n",
    "  * develop a simple event display as an aid to visualizing what two jet and three jet events look like in $e^+e^-$ annihilation events"
   ]
  },
  {
   "cell_type": "markdown",
   "metadata": {},
   "source": [
    "## Question 1:\n",
    "\n",
    "The first experimental evidence for the existence of the\n",
    "gluon came from the analysis of data collected at the Petra\n",
    "accelerator at DESY.  Several different analysis strategies\n",
    "were used by the four collaborations (see [arxiv:1012.2288](https://arxiv.org/pdf/1012.2288.pdf) for a review).  One such analysis, performed by the\n",
    "Tasso group, was based on studies of the sphericity tensor:\n",
    "$$\n",
    "S_{\\alpha\\beta} = \\frac{\\sum_i p_{i\\alpha} p_{i\\beta}}{\\sum_i\n",
    "  \\vec p_i^2}\n",
    "$$\n",
    "where the sum is over all charged particles in the event\n",
    "(Tasso did not have good enough calorimetry to include neutrals\n",
    "in the analysis) and the $\\alpha$ and $\\beta$ indices run\n",
    "from 1 to 3, representing the $x$, $y$ and $z$ components\n",
    "of the momentum vector.  For each event,\n",
    "the Sphericity tensor can be\n",
    "diagonalized to obtain the principle axes $\\hat n_1$ through\n",
    "$\\hat n_3$ and eigenvalues $Q_1$ through $Q_3$.\n",
    "With the definition of $S$ above, $Q_1+Q_2+Q_3=1$, so we only\n",
    "need two eigenvalues to specify each event. \n",
    "If the\n",
    "eigenvalues are ordered so that $Q_1<Q_2<Q_3$ then the\n",
    "sphericity is defined to be\n",
    "$$\n",
    "S \\equiv \\frac{3}{2}\\left (1 - Q_3\\right )  = \\frac{3}{2} \\left (Q_1+Q_2 \\right )\n",
    "$$\n",
    "and the aplanarity is defined to be\n",
    "$$\n",
    "A \\equiv \\frac{3}{2} Q_1 \n",
    "$$\n",
    "Here $0<S<1$ and $0<A < 0.5$.\n",
    "\n",
    "Note that the form of the sphericity tensor is the same\n",
    "as that of the moment of interia tensor (where the object's\n",
    "position is replaced by its momentum).  We can therefore\n",
    "use our intuition from classical mechanics to interpret this\n",
    "tensor.  Long, thin rods have one large eigenvalue and two\n",
    "small ones of rougly equal size, while a sphere has three\n",
    "eigenvalues of equal size.  If we interpret the the\n",
    "process $e^+e^-\\rightarrow hadrons$ at parton level as\n",
    "$e^+e^-\\rightarrow q\\overline q$ we would expect most of\n",
    "the momentum to flow along the original $q\\overline q$ axis\n",
    "with the momentum transverse to this direction limited to\n",
    "a scale set by $\\Lambda_{QCD}$.  Thus, such events have $S$\n",
    "close to zero.  The axis $n_3$ is a good estimate of\n",
    "the initial direction of the back-to-back $q$ and $\\overline q$.\n",
    "If instead a single hard gluon is radiated so that\n",
    "the hard scattering process is $e^+e^-\\rightarrow q\\overline qg$,\n",
    "the events would appear planar with only a small component of \n",
    "momentum outside the plane.\n",
    "Here is what Tasso observed:\n",
    "<div style=\"width: 500px;margin: auto\" align=\"center\">\n",
    "    <img src=\"tassoSphericityAplanarity.png\">\n",
    "    Distribution of the sphericity and aplanarity of $e^+e^-\\rightarrow hadron$ events measured by the TASSO collaboration in R.\n",
    "    Brandelik et al., <i>Evidence for Planar Events in e<sup>+</sup>e<sup>−</sup> Annihilation at High Energies</i>, Phys. Lett. B 86, 243 (1979).\n",
    "</div>\n",
    "\n",
    "You will now reproduce their analysis using simulated\n",
    "data created with the Pythia8 Monte Carlo generator.  The file\n",
    "`Pythia8e+e-Toqqbar36GeV.dat` contains the charged particle information\n",
    "for 10000 events.  The format of the file is specified\n",
    "in the metadata comments at the beginning of the file."
   ]
  },
  {
   "cell_type": "markdown",
   "metadata": {},
   "source": [
    "### 1a (6 pts)\n",
    "\n",
    "For each event in the file, calculate the sphericity tensor and find its eigenvalues. Plot the data using the same  𝑥  and  𝑦  axes as the Tasso plot above."
   ]
  },
  {
   "cell_type": "code",
   "execution_count": 6,
   "metadata": {},
   "outputs": [],
   "source": [
    "import numpy as np\n",
    "from matplotlib import pyplot as plt\n",
    "\n",
    "# Read in the data\n",
    "with open(\"Pythia8e+e-Toqqbar36GeV.dat\",\"r\") as file:\n",
    "    lines = file.readlines()\n",
    "\n",
    "# This is the header\n",
    "event_header = lines[5]\n",
    "\n",
    "def momenta_from_events(line):\n",
    "    \"\"\"Take provided event info and extract momemtum vectors\n",
    "    \n",
    "    Parameters\n",
    "    ==========\n",
    "    lines : numpy array\n",
    "      2 dimensional array of event info\n",
    "      \n",
    "    Returns\n",
    "    =======\n",
    "    mom : numpy array\n",
    "      n by 3 array of momentum vectors, one for each event given\n",
    "    \"\"\"\n",
    "    n = len(line)\n",
    "    mom = np.zeros((n,3))\n",
    "    for i in range(n):\n",
    "        mom[i] = line.split(\",\")[1:4]\n",
    "    return mom\n",
    "    \n",
    "def sphericity_tensor_from_mom(mom):\n",
    "    \"\"\"Calculate the sphericity of a momentum vector\n",
    "    \n",
    "    Parameters\n",
    "    ==========\n",
    "    mom : numpy array\n",
    "      3 element array representing a particle momentum\n",
    "      \n",
    "    Returns\n",
    "    =======\n",
    "    sphericity : numpy array\n",
    "      3 by 3 array of sphericity tensor values\n",
    "    \"\"\"\n",
    "    \n",
    "   '''Your code here'''\n",
    "\n",
    "def find_eigenvalues(sphericity_tensor):\n",
    "    \"\"\"Calculate the eigenvalues of the sphericity tensor\n",
    "    \n",
    "    Parameters\n",
    "    ==========\n",
    "    sphericity_tensor : numpy array\n",
    "      3 by 3 array representing a sphericity tensor\n",
    "      \n",
    "    Returns\n",
    "    =======\n",
    "    eigenvalues : numpy array\n",
    "      sphericity tensor eigenvalues\n",
    "    \"\"\"\n",
    "    \n",
    "   '''Your code here'''\n",
    "\n",
    "def compute_sphericity(eigenvalues):\n",
    "    \"\"\"Calculate the sphericity of the event given the sphericity tensor eigenvalues\n",
    "    \n",
    "    Parameters\n",
    "    ==========\n",
    "    eigenvalues : numpy array\n",
    "      3 element array representing sphericity tensor eigenvalues\n",
    "      \n",
    "    Returns\n",
    "    =======\n",
    "    sphericity : float\n",
    "      sphericity of the event\n",
    "    \"\"\"\n",
    "    \n",
    "   '''Your code here'''\n",
    "\n",
    "momenta = []\n",
    "\n",
    "# Start at the 6th element of the lines array, previous ones are header info\n",
    "i = 6\n",
    "\n",
    "'''Plotting code here'''"
   ]
  },
  {
   "cell_type": "markdown",
   "metadata": {},
   "source": [
    "### 1b (5 pts)\n",
    "\n",
    "As discussed above, the momentum along the $\\hat n_3$\n",
    "  axis should be larger than in the other directions.\n",
    "  The momentum along the $\\hat n_2$\n",
    "  direction should be small for 2-jet events, with a tail\n",
    "  extending to larger values of momentum for\n",
    "  3-jet events where a gluon is radiated.  The momentum\n",
    "  along the $\\hat n_1$ direction should be small unless more\n",
    "  than one gluon is radiated.  Since $\\alpha_S\\approx 0.12$ at Petra\n",
    "  energies, the probability of\n",
    "  multiple hard gluon radiation is small.  Make\n",
    "  histograms of the components of momentum along each\n",
    "  of the three principle axes for the events you have analyzed.\n",
    "  "
   ]
  },
  {
   "cell_type": "code",
   "execution_count": null,
   "metadata": {},
   "outputs": [],
   "source": [
    "'''Your code here'''"
   ]
  },
  {
   "cell_type": "markdown",
   "metadata": {},
   "source": [
    "### 1c (2 pts)\n",
    "What do the plots in 1b show?"
   ]
  },
  {
   "cell_type": "markdown",
   "metadata": {},
   "source": [
    "Your answer here"
   ]
  },
  {
   "cell_type": "markdown",
   "metadata": {},
   "source": [
    "### 1c (5 pts)\n",
    "\n",
    "When physicists observe a new phenomenon, they often like to display individual events to make sure they \"look\" they way we expect. We can display a single event by making a 3D plot with a vector representing the momentum of each charged particle. Make four such displays, two for events with  𝑆<0.05  and two for events with  𝑆>0.3 . "
   ]
  },
  {
   "cell_type": "code",
   "execution_count": 6,
   "metadata": {
    "scrolled": false
   },
   "outputs": [
    {
     "data": {
      "text/plain": [
       "'Your code here'"
      ]
     },
     "execution_count": 6,
     "metadata": {},
     "output_type": "execute_result"
    }
   ],
   "source": [
    "from mpl_toolkits.mplot3d import Axes3D\n",
    "\n",
    "'''Your code here'''"
   ]
  },
  {
   "cell_type": "markdown",
   "metadata": {},
   "source": [
    "### 1d (2 pts)\n",
    "Do the plots you made in the previous question look the way you expect them to?"
   ]
  },
  {
   "cell_type": "code",
   "execution_count": null,
   "metadata": {},
   "outputs": [],
   "source": [
    "Your answer here"
   ]
  }
 ],
 "metadata": {
  "kernelspec": {
   "display_name": "Python 3",
   "language": "python",
   "name": "python3"
  },
  "language_info": {
   "codemirror_mode": {
    "name": "ipython",
    "version": 3
   },
   "file_extension": ".py",
   "mimetype": "text/x-python",
   "name": "python",
   "nbconvert_exporter": "python",
   "pygments_lexer": "ipython3",
   "version": "3.7.3"
  }
 },
 "nbformat": 4,
 "nbformat_minor": 4
}
