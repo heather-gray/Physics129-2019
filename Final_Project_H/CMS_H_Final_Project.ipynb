{
 "cells": [
  {
   "cell_type": "markdown",
   "metadata": {},
   "source": [
    "# Higgs Search with CMS"
   ]
  },
  {
   "cell_type": "markdown",
   "metadata": {},
   "source": [
    "Please note that this project involves the use of ROOT. It is strongly suggested that only people who already have some experience with ROOT select this project. Please have a look at the instructions under dataset and make sure that they work for you -- they will require that you install ROOT on your computer."
   ]
  },
  {
   "cell_type": "markdown",
   "metadata": {},
   "source": [
    "## Introduction "
   ]
  },
  {
   "cell_type": "markdown",
   "metadata": {},
   "source": [
    "The Compact Muon Solenoid (CMS) is a general-purpose detector at the Large Hadron Collider (LHC). It has a broad physics programme ranging from studying the Standard Model (including the Higgs boson) to searching for extra dimensions and particles that could make up dark matter. Although it has the same scientific goals as the ATLAS experiment, it uses different technical solutions and a different magnet-system design.\n",
    "\n",
    "The CMS detector is built around a huge solenoid magnet. This takes the form of a cylindrical coil of superconducting cable that generates a field of 4 tesla, about 100,000 times the magnetic field of the Earth. The field is confined by a steel “yoke” that forms the bulk of the detector’s 14,000-tonne weight.\n",
    "\n",
    "The CMS detector is shaped like a cylindrical onion, with several concentric layers of components. The silicon tracker is the innermost layer, surrounded by the electromagnetic and hadronic caloimeters. The superconducting solenoid surrounds the calorimeters and lies within the muon system.\n",
    "\n",
    "<div style=\"width: 500px;margin: auto\" align=\"center\">\n",
    "    <img src=\"1920px-CMS_160312_06.png\">\n",
    "    Figure 1. The CMS Detector\n",
    "</div>\n"
   ]
  },
  {
   "cell_type": "markdown",
   "metadata": {},
   "source": [
    "## Goals\n",
    "\n",
    "* Extract the Higgs mass and width by fitting the data. Note that you will need to estimate the background as well and it will be easier if you exclude the peak around the $Z$ boson mass.\n",
    "* Calculate the significance of your Higgs observation\n",
    "\n",
    "Note that a simple formula for the significance is as follows:\n",
    "\n",
    "$$\\frac{S}{\\sqrt{S+B}}$$\n"
   ]
  },
  {
   "cell_type": "markdown",
   "metadata": {},
   "source": [
    "## Dataset"
   ]
  },
  {
   "cell_type": "markdown",
   "metadata": {},
   "source": [
    "The data you will analyse contains events from 2011 and 2012 recorded by the CMS detector which contain 4 muons, 4 electrons or 2 muons and 2 electrons. The data has already been processed into histograms.\n",
    "\n",
    "* Download the 23 ROOT files available here: http://opendata.cern.ch/record/5501\n",
    "* Download the following macro: http://opendata.cern.ch/record/5500/files/M4Lnormdatall.cc\n",
    "* Run the macro over the data using the following command: root -l M4Lnormdatall.cc\n",
    "\n",
    "If everything went well, you should get a distribution of data and simulation. Have a look inside the ROOT macro and the ROOT files -- you will find quite a bit of information inside both."
   ]
  },
  {
   "cell_type": "markdown",
   "metadata": {},
   "source": [
    "#  Possible extensions"
   ]
  },
  {
   "cell_type": "markdown",
   "metadata": {},
   "source": [
    "* How would the significance change if you had the same amount of signal but either half or double the amount of background?\n",
    "* Split the macro into separate ones for the different lepton flavours. How does the significance compare between the different categories?\n",
    "* Make plots of some of the other variables in the ROOT file. How do they compare between the signal and the background?\n",
    "* Assuming that the MC sample for the signal was produced without any cuts, use the numbers in the macro and the ROOT files to calculate the acceptance times efficiency and the cross-section. \n",
    "* Implement a more sophisticated calculation for the significance\n",
    "* Why is there a peak at the $Z$ mass"
   ]
  },
  {
   "cell_type": "code",
   "execution_count": null,
   "metadata": {},
   "outputs": [],
   "source": []
  }
 ],
 "metadata": {
  "kernelspec": {
   "display_name": "Python 3",
   "language": "python",
   "name": "python3"
  },
  "language_info": {
   "codemirror_mode": {
    "name": "ipython",
    "version": 3
   },
   "file_extension": ".py",
   "mimetype": "text/x-python",
   "name": "python",
   "nbconvert_exporter": "python",
   "pygments_lexer": "ipython3",
   "version": "3.7.3"
  }
 },
 "nbformat": 4,
 "nbformat_minor": 2
}
